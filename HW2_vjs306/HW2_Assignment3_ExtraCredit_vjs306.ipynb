{
 "cells": [
  {
   "cell_type": "code",
   "execution_count": 1,
   "metadata": {
    "collapsed": false
   },
   "outputs": [],
   "source": [
    "#NYC Civil Service Titles\n",
    "#/projects/open/NYCOpenData/nycopendata/data/nzjr-3966/1414246022/nzjr-3966\n",
    "\n",
    "from __future__ import print_function\n",
    "import matplotlib.pyplot as pl\n",
    "%matplotlib inline\n",
    "import pandas as pd\n",
    "#import pylab as pl\n",
    "\n",
    "import os\n"
   ]
  },
  {
   "cell_type": "code",
   "execution_count": 2,
   "metadata": {
    "collapsed": false
   },
   "outputs": [
    {
     "data": {
      "text/plain": [
       "'/gws/open/NYCOpenData/nycopendata/data'"
      ]
     },
     "execution_count": 2,
     "metadata": {},
     "output_type": "execute_result"
    }
   ],
   "source": [
    "os.getenv('DFDATA')"
   ]
  },
  {
   "cell_type": "code",
   "execution_count": 3,
   "metadata": {
    "collapsed": false
   },
   "outputs": [],
   "source": [
    "DFDATA = os.getenv('DFDATA')"
   ]
  },
  {
   "cell_type": "code",
   "execution_count": 4,
   "metadata": {
    "collapsed": false
   },
   "outputs": [],
   "source": [
    "#os.getenv(\"PUIDATA\")"
   ]
  },
  {
   "cell_type": "code",
   "execution_count": 5,
   "metadata": {
    "collapsed": false
   },
   "outputs": [
    {
     "data": {
      "text/html": [
       "<div>\n",
       "<table border=\"1\" class=\"dataframe\">\n",
       "  <thead>\n",
       "    <tr style=\"text-align: right;\">\n",
       "      <th></th>\n",
       "      <th>Affiliated Base License Number</th>\n",
       "      <th>License Number</th>\n",
       "      <th>Name of Licensee</th>\n",
       "      <th>License Type</th>\n",
       "      <th>DMV License Plate</th>\n",
       "      <th>VIN</th>\n",
       "      <th>Model Year</th>\n",
       "      <th>License Expiration Date</th>\n",
       "    </tr>\n",
       "  </thead>\n",
       "  <tbody>\n",
       "    <tr>\n",
       "      <th>0</th>\n",
       "      <td>B90005</td>\n",
       "      <td>NaN</td>\n",
       "      <td>HOPE AMBULETTE SERVICE INC</td>\n",
       "      <td>Paratransit Vehicle</td>\n",
       "      <td>T427929C</td>\n",
       "      <td>1FTNE24W09DA18988</td>\n",
       "      <td>2009</td>\n",
       "      <td>04/28/2013 07:00:00 AM +0000</td>\n",
       "    </tr>\n",
       "    <tr>\n",
       "      <th>1</th>\n",
       "      <td>B90005</td>\n",
       "      <td>NaN</td>\n",
       "      <td>HOPE AMBULETTE SERVICE INC</td>\n",
       "      <td>Paratransit Vehicle</td>\n",
       "      <td>T427931C</td>\n",
       "      <td>1FTNE24W19DA18983</td>\n",
       "      <td>2009</td>\n",
       "      <td>04/29/2013 07:00:00 AM +0000</td>\n",
       "    </tr>\n",
       "    <tr>\n",
       "      <th>2</th>\n",
       "      <td>B90005</td>\n",
       "      <td>NaN</td>\n",
       "      <td>HOPE AMBULETTE SERVICE INC</td>\n",
       "      <td>Paratransit Vehicle</td>\n",
       "      <td>T427927C</td>\n",
       "      <td>1FTNE24W16HA12850</td>\n",
       "      <td>2006</td>\n",
       "      <td>06/03/2013 07:00:00 AM +0000</td>\n",
       "    </tr>\n",
       "    <tr>\n",
       "      <th>3</th>\n",
       "      <td>B90005</td>\n",
       "      <td>NaN</td>\n",
       "      <td>HOPE AMBULETTE SERVICE INC</td>\n",
       "      <td>Paratransit Vehicle</td>\n",
       "      <td>T427913C</td>\n",
       "      <td>1FTNS24W28DA96471</td>\n",
       "      <td>2008</td>\n",
       "      <td>05/01/2012 07:00:00 AM +0000</td>\n",
       "    </tr>\n",
       "    <tr>\n",
       "      <th>4</th>\n",
       "      <td>B90005</td>\n",
       "      <td>5022426.0</td>\n",
       "      <td>HOPE AMBULETTE SERVICE INC</td>\n",
       "      <td>Paratransit Vehicle</td>\n",
       "      <td>T431314C</td>\n",
       "      <td>1FTNS24W68DA74604</td>\n",
       "      <td>2008</td>\n",
       "      <td>10/26/2011 07:00:00 AM +0000</td>\n",
       "    </tr>\n",
       "  </tbody>\n",
       "</table>\n",
       "</div>"
      ],
      "text/plain": [
       "  Affiliated Base License Number  License Number            Name of Licensee  \\\n",
       "0                         B90005             NaN  HOPE AMBULETTE SERVICE INC   \n",
       "1                         B90005             NaN  HOPE AMBULETTE SERVICE INC   \n",
       "2                         B90005             NaN  HOPE AMBULETTE SERVICE INC   \n",
       "3                         B90005             NaN  HOPE AMBULETTE SERVICE INC   \n",
       "4                         B90005       5022426.0  HOPE AMBULETTE SERVICE INC   \n",
       "\n",
       "          License Type DMV License Plate                VIN  Model Year  \\\n",
       "0  Paratransit Vehicle          T427929C  1FTNE24W09DA18988        2009   \n",
       "1  Paratransit Vehicle          T427931C  1FTNE24W19DA18983        2009   \n",
       "2  Paratransit Vehicle          T427927C  1FTNE24W16HA12850        2006   \n",
       "3  Paratransit Vehicle          T427913C  1FTNS24W28DA96471        2008   \n",
       "4  Paratransit Vehicle          T431314C  1FTNS24W68DA74604        2008   \n",
       "\n",
       "        License Expiration Date  \n",
       "0  04/28/2013 07:00:00 AM +0000  \n",
       "1  04/29/2013 07:00:00 AM +0000  \n",
       "2  06/03/2013 07:00:00 AM +0000  \n",
       "3  05/01/2012 07:00:00 AM +0000  \n",
       "4  10/26/2011 07:00:00 AM +0000  "
      ]
     },
     "execution_count": 5,
     "metadata": {},
     "output_type": "execute_result"
    }
   ],
   "source": [
    "df = pd.read_csv(DFDATA + '/v39y-4v3t/1414245766/v39y-4v3t')\n",
    "df.head()"
   ]
  },
  {
   "cell_type": "code",
   "execution_count": 6,
   "metadata": {
    "collapsed": false
   },
   "outputs": [],
   "source": [
    "#drop variables you do not need\n",
    "df.drop(['Affiliated Base License Number','License Number','VIN','Name of Licensee','License Type','DMV License Plate'],\n",
    "        axis=1, inplace=True)"
   ]
  },
  {
   "cell_type": "code",
   "execution_count": 7,
   "metadata": {
    "collapsed": false
   },
   "outputs": [
    {
     "data": {
      "text/html": [
       "<div>\n",
       "<table border=\"1\" class=\"dataframe\">\n",
       "  <thead>\n",
       "    <tr style=\"text-align: right;\">\n",
       "      <th></th>\n",
       "      <th>Model Year</th>\n",
       "      <th>License Expiration Date</th>\n",
       "    </tr>\n",
       "  </thead>\n",
       "  <tbody>\n",
       "    <tr>\n",
       "      <th>0</th>\n",
       "      <td>2009</td>\n",
       "      <td>04/28/2013 07:00:00 AM +0000</td>\n",
       "    </tr>\n",
       "    <tr>\n",
       "      <th>1</th>\n",
       "      <td>2009</td>\n",
       "      <td>04/29/2013 07:00:00 AM +0000</td>\n",
       "    </tr>\n",
       "    <tr>\n",
       "      <th>2</th>\n",
       "      <td>2006</td>\n",
       "      <td>06/03/2013 07:00:00 AM +0000</td>\n",
       "    </tr>\n",
       "    <tr>\n",
       "      <th>3</th>\n",
       "      <td>2008</td>\n",
       "      <td>05/01/2012 07:00:00 AM +0000</td>\n",
       "    </tr>\n",
       "    <tr>\n",
       "      <th>4</th>\n",
       "      <td>2008</td>\n",
       "      <td>10/26/2011 07:00:00 AM +0000</td>\n",
       "    </tr>\n",
       "  </tbody>\n",
       "</table>\n",
       "</div>"
      ],
      "text/plain": [
       "   Model Year       License Expiration Date\n",
       "0        2009  04/28/2013 07:00:00 AM +0000\n",
       "1        2009  04/29/2013 07:00:00 AM +0000\n",
       "2        2006  06/03/2013 07:00:00 AM +0000\n",
       "3        2008  05/01/2012 07:00:00 AM +0000\n",
       "4        2008  10/26/2011 07:00:00 AM +0000"
      ]
     },
     "execution_count": 7,
     "metadata": {},
     "output_type": "execute_result"
    }
   ],
   "source": [
    "df.head()"
   ]
  },
  {
   "cell_type": "code",
   "execution_count": 8,
   "metadata": {
    "collapsed": false
   },
   "outputs": [
    {
     "data": {
      "text/plain": [
       "0   2013-04-28 07:00:00\n",
       "1   2013-04-29 07:00:00\n",
       "2   2013-06-03 07:00:00\n",
       "3   2012-05-01 07:00:00\n",
       "4   2011-10-26 07:00:00\n",
       "Name: License Expiration Date, dtype: datetime64[ns]"
      ]
     },
     "execution_count": 8,
     "metadata": {},
     "output_type": "execute_result"
    }
   ],
   "source": [
    "df['License Expiration Date'] = pd.to_datetime(df['License Expiration Date'])\n",
    "pd.to_datetime(df['License Expiration Date']).head()"
   ]
  },
  {
   "cell_type": "code",
   "execution_count": 9,
   "metadata": {
    "collapsed": false
   },
   "outputs": [
    {
     "data": {
      "text/html": [
       "<div>\n",
       "<table border=\"1\" class=\"dataframe\">\n",
       "  <thead>\n",
       "    <tr style=\"text-align: right;\">\n",
       "      <th></th>\n",
       "      <th>Model Year</th>\n",
       "      <th>License Expiration Date</th>\n",
       "    </tr>\n",
       "  </thead>\n",
       "  <tbody>\n",
       "    <tr>\n",
       "      <th>0</th>\n",
       "      <td>2009</td>\n",
       "      <td>2013-04-28 07:00:00</td>\n",
       "    </tr>\n",
       "    <tr>\n",
       "      <th>1</th>\n",
       "      <td>2009</td>\n",
       "      <td>2013-04-29 07:00:00</td>\n",
       "    </tr>\n",
       "    <tr>\n",
       "      <th>2</th>\n",
       "      <td>2006</td>\n",
       "      <td>2013-06-03 07:00:00</td>\n",
       "    </tr>\n",
       "    <tr>\n",
       "      <th>3</th>\n",
       "      <td>2008</td>\n",
       "      <td>2012-05-01 07:00:00</td>\n",
       "    </tr>\n",
       "    <tr>\n",
       "      <th>4</th>\n",
       "      <td>2008</td>\n",
       "      <td>2011-10-26 07:00:00</td>\n",
       "    </tr>\n",
       "  </tbody>\n",
       "</table>\n",
       "</div>"
      ],
      "text/plain": [
       "   Model Year License Expiration Date\n",
       "0        2009     2013-04-28 07:00:00\n",
       "1        2009     2013-04-29 07:00:00\n",
       "2        2006     2013-06-03 07:00:00\n",
       "3        2008     2012-05-01 07:00:00\n",
       "4        2008     2011-10-26 07:00:00"
      ]
     },
     "execution_count": 9,
     "metadata": {},
     "output_type": "execute_result"
    }
   ],
   "source": [
    "df.head()"
   ]
  },
  {
   "cell_type": "code",
   "execution_count": 10,
   "metadata": {
    "collapsed": false
   },
   "outputs": [
    {
     "data": {
      "text/plain": [
       "<matplotlib.text.Text at 0x7f633bccfa90>"
      ]
     },
     "execution_count": 10,
     "metadata": {},
     "output_type": "execute_result"
    },
    {
     "data": {
      "image/png": "[encoded data removed]",
      "text/plain": [
       "<matplotlib.figure.Figure at 0x7f62e4f0f390>"
      ]
     },
     "metadata": {},
     "output_type": "display_data"
    }
   ],
   "source": [
    "#%pylab inline\n",
    "\n",
    "#txt = '''\n",
    "#    FIGURE1: This figure attempts to represent the current paratransit vehicles license expiration dates against vehicle year model....  '''\n",
    "\n",
    "#pl.style.use('seaborn-darkgrid')\n",
    "\n",
    "\n",
    "df.plot(x='License Expiration Date',y='Model Year', style='.', figsize=(12,4))\n",
    "\n",
    "pl.title('Paratransit vehicle model year and their license expiration dates')\n",
    "#pl.xlabel(\"License expiration date\")\n",
    "pl.ylabel('Year Model')\n",
    "\n",
    "\n",
    "#pl.text(0,0, txt)\n",
    "\n"
   ]
  },
  {
   "cell_type": "markdown",
   "metadata": {
    "collapsed": true
   },
   "source": [
    "# FIGURE1: This figure attempts to represent the current paratransit vehicles license expiration dates against vehicle year mode"
   ]
  },
  {
   "cell_type": "code",
   "execution_count": null,
   "metadata": {
    "collapsed": true
   },
   "outputs": [],
   "source": []
  }
 ],
 "metadata": {
  "kernelspec": {
   "display_name": "PUI2016_Python2",
   "language": "python",
   "name": "pui2016_python2"
  },
  "language_info": {
   "codemirror_mode": {
    "name": "ipython",
    "version": 2
   },
   "file_extension": ".py",
   "mimetype": "text/x-python",
   "name": "python",
   "nbconvert_exporter": "python",
   "pygments_lexer": "ipython2",
   "version": "2.7.12"
  }
 },
 "nbformat": 4,
 "nbformat_minor": 0
}
