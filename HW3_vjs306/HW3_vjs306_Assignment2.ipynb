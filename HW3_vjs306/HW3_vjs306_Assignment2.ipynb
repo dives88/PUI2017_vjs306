{
 "cells": [
  {
   "cell_type": "markdown",
   "metadata": {},
   "source": [
    "## For Assignment 2 you should design your own investigation into the citibike data.\n",
    "### Come up with a question about the Citibike data usage. It can be anything that involves Categorical data. \n",
    "### At this point of the class it is easier to run tests of proportions or similar, and work with categorical data. Categorical cn be anhything that can be punt into classes (e.g. day/night, male/female, 2014/2015/2016.... as long as you set up your experiment the proper way!)\n",
    "- ### Choose the significance threshold\n",
    "- ### Clearly state they Null and Alternate hypothesis\n",
    "- ### Wrangle the data so that it is ready for your analysis."
   ]
  },
  {
   "cell_type": "code",
   "execution_count": 1,
   "metadata": {
    "collapsed": true
   },
   "outputs": [],
   "source": [
    "### As long as \n",
    "### 1) your research is reproducible: we can access the same file as you without having to ask you for the file\n",
    "### 2) and your data is stored in a directory pointed to by the env variable PUIDATA \n",
    "### you will be fine. We already explored how to download data in other notebooks!"
   ]
  },
  {
   "cell_type": "code",
   "execution_count": 2,
   "metadata": {
    "collapsed": false
   },
   "outputs": [
    {
     "name": "stdout",
     "output_type": "stream",
     "text": [
      "Populating the interactive namespace from numpy and matplotlib\n"
     ]
    }
   ],
   "source": [
    "from __future__  import print_function\n",
    "import pylab as pl\n",
    "import pandas as pd\n",
    "import numpy as np\n",
    "import os\n",
    "\n",
    "%pylab inline"
   ]
  },
  {
   "cell_type": "code",
   "execution_count": 3,
   "metadata": {
    "collapsed": false
   },
   "outputs": [
    {
     "data": {
      "text/plain": [
       "'/home/cusp/vjs306/PUIdata'"
      ]
     },
     "execution_count": 3,
     "metadata": {},
     "output_type": "execute_result"
    }
   ],
   "source": [
    "os.getenv('PUIDATA')"
   ]
  },
  {
   "cell_type": "code",
   "execution_count": 4,
   "metadata": {
    "collapsed": false
   },
   "outputs": [],
   "source": [
    "datestring = '201510'"
   ]
  },
  {
   "cell_type": "code",
   "execution_count": 5,
   "metadata": {
    "collapsed": false
   },
   "outputs": [
    {
     "data": {
      "text/plain": [
       "0"
      ]
     },
     "execution_count": 5,
     "metadata": {},
     "output_type": "execute_result"
    }
   ],
   "source": [
    "#download the zip file of specified datestring into pwd\n",
    "os.system(\"curl -O https://s3.amazonaws.com/tripdata/\" + datestring + \"-citibike-tripdata.zip\")\n",
    "#move zip file to PUIdata\n",
    "os.system(\"mv \" + datestring + \"-citibike-tripdata.zip \" + os.getenv(\"PUIDATA\"))\n",
    "\n",
    "#unzip zip file... AND move to PUIData\n",
    "os.system(\"unzip \" + os.getenv(\"PUIDATA\") + \"/\" + datestring + \"-citibike-tripdata.zip\" \n",
    "          + \" -d \" + os.getenv(\"PUIDATA\"))"
   ]
  },
  {
   "cell_type": "code",
   "execution_count": 6,
   "metadata": {
    "collapsed": false
   },
   "outputs": [
    {
     "data": {
      "text/html": [
       "<div>\n",
       "<table border=\"1\" class=\"dataframe\">\n",
       "  <thead>\n",
       "    <tr style=\"text-align: right;\">\n",
       "      <th></th>\n",
       "      <th>tripduration</th>\n",
       "      <th>starttime</th>\n",
       "      <th>stoptime</th>\n",
       "      <th>start station id</th>\n",
       "      <th>start station name</th>\n",
       "      <th>start station latitude</th>\n",
       "      <th>start station longitude</th>\n",
       "      <th>end station id</th>\n",
       "      <th>end station name</th>\n",
       "      <th>end station latitude</th>\n",
       "      <th>end station longitude</th>\n",
       "      <th>bikeid</th>\n",
       "      <th>usertype</th>\n",
       "      <th>birth year</th>\n",
       "      <th>gender</th>\n",
       "    </tr>\n",
       "  </thead>\n",
       "  <tbody>\n",
       "    <tr>\n",
       "      <th>0</th>\n",
       "      <td>171</td>\n",
       "      <td>10/1/2015 00:00:02</td>\n",
       "      <td>10/1/2015 00:02:54</td>\n",
       "      <td>388</td>\n",
       "      <td>W 26 St &amp; 10 Ave</td>\n",
       "      <td>40.749718</td>\n",
       "      <td>-74.002950</td>\n",
       "      <td>494</td>\n",
       "      <td>W 26 St &amp; 8 Ave</td>\n",
       "      <td>40.747348</td>\n",
       "      <td>-73.997236</td>\n",
       "      <td>24302</td>\n",
       "      <td>Subscriber</td>\n",
       "      <td>1973.0</td>\n",
       "      <td>1</td>\n",
       "    </tr>\n",
       "    <tr>\n",
       "      <th>1</th>\n",
       "      <td>593</td>\n",
       "      <td>10/1/2015 00:00:02</td>\n",
       "      <td>10/1/2015 00:09:55</td>\n",
       "      <td>518</td>\n",
       "      <td>E 39 St &amp; 2 Ave</td>\n",
       "      <td>40.747804</td>\n",
       "      <td>-73.973442</td>\n",
       "      <td>438</td>\n",
       "      <td>St Marks Pl &amp; 1 Ave</td>\n",
       "      <td>40.727791</td>\n",
       "      <td>-73.985649</td>\n",
       "      <td>19904</td>\n",
       "      <td>Subscriber</td>\n",
       "      <td>1990.0</td>\n",
       "      <td>1</td>\n",
       "    </tr>\n",
       "    <tr>\n",
       "      <th>2</th>\n",
       "      <td>233</td>\n",
       "      <td>10/1/2015 00:00:11</td>\n",
       "      <td>10/1/2015 00:04:05</td>\n",
       "      <td>447</td>\n",
       "      <td>8 Ave &amp; W 52 St</td>\n",
       "      <td>40.763707</td>\n",
       "      <td>-73.985162</td>\n",
       "      <td>447</td>\n",
       "      <td>8 Ave &amp; W 52 St</td>\n",
       "      <td>40.763707</td>\n",
       "      <td>-73.985162</td>\n",
       "      <td>17797</td>\n",
       "      <td>Subscriber</td>\n",
       "      <td>1984.0</td>\n",
       "      <td>1</td>\n",
       "    </tr>\n",
       "    <tr>\n",
       "      <th>3</th>\n",
       "      <td>250</td>\n",
       "      <td>10/1/2015 00:00:15</td>\n",
       "      <td>10/1/2015 00:04:25</td>\n",
       "      <td>336</td>\n",
       "      <td>Sullivan St &amp; Washington Sq</td>\n",
       "      <td>40.730477</td>\n",
       "      <td>-73.999061</td>\n",
       "      <td>223</td>\n",
       "      <td>W 13 St &amp; 7 Ave</td>\n",
       "      <td>40.737815</td>\n",
       "      <td>-73.999947</td>\n",
       "      <td>23966</td>\n",
       "      <td>Subscriber</td>\n",
       "      <td>1984.0</td>\n",
       "      <td>1</td>\n",
       "    </tr>\n",
       "    <tr>\n",
       "      <th>4</th>\n",
       "      <td>528</td>\n",
       "      <td>10/1/2015 00:00:17</td>\n",
       "      <td>10/1/2015 00:09:05</td>\n",
       "      <td>3107</td>\n",
       "      <td>Bedford Ave &amp; Nassau Ave</td>\n",
       "      <td>40.723117</td>\n",
       "      <td>-73.952123</td>\n",
       "      <td>539</td>\n",
       "      <td>Metropolitan Ave &amp; Bedford Ave</td>\n",
       "      <td>40.715348</td>\n",
       "      <td>-73.960241</td>\n",
       "      <td>16246</td>\n",
       "      <td>Customer</td>\n",
       "      <td>NaN</td>\n",
       "      <td>0</td>\n",
       "    </tr>\n",
       "  </tbody>\n",
       "</table>\n",
       "</div>"
      ],
      "text/plain": [
       "   tripduration           starttime            stoptime  start station id  \\\n",
       "0           171  10/1/2015 00:00:02  10/1/2015 00:02:54               388   \n",
       "1           593  10/1/2015 00:00:02  10/1/2015 00:09:55               518   \n",
       "2           233  10/1/2015 00:00:11  10/1/2015 00:04:05               447   \n",
       "3           250  10/1/2015 00:00:15  10/1/2015 00:04:25               336   \n",
       "4           528  10/1/2015 00:00:17  10/1/2015 00:09:05              3107   \n",
       "\n",
       "            start station name  start station latitude  \\\n",
       "0             W 26 St & 10 Ave               40.749718   \n",
       "1              E 39 St & 2 Ave               40.747804   \n",
       "2              8 Ave & W 52 St               40.763707   \n",
       "3  Sullivan St & Washington Sq               40.730477   \n",
       "4     Bedford Ave & Nassau Ave               40.723117   \n",
       "\n",
       "   start station longitude  end station id                end station name  \\\n",
       "0               -74.002950             494                 W 26 St & 8 Ave   \n",
       "1               -73.973442             438             St Marks Pl & 1 Ave   \n",
       "2               -73.985162             447                 8 Ave & W 52 St   \n",
       "3               -73.999061             223                 W 13 St & 7 Ave   \n",
       "4               -73.952123             539  Metropolitan Ave & Bedford Ave   \n",
       "\n",
       "   end station latitude  end station longitude  bikeid    usertype  \\\n",
       "0             40.747348             -73.997236   24302  Subscriber   \n",
       "1             40.727791             -73.985649   19904  Subscriber   \n",
       "2             40.763707             -73.985162   17797  Subscriber   \n",
       "3             40.737815             -73.999947   23966  Subscriber   \n",
       "4             40.715348             -73.960241   16246    Customer   \n",
       "\n",
       "   birth year  gender  \n",
       "0      1973.0       1  \n",
       "1      1990.0       1  \n",
       "2      1984.0       1  \n",
       "3      1984.0       1  \n",
       "4         NaN       0  "
      ]
     },
     "execution_count": 6,
     "metadata": {},
     "output_type": "execute_result"
    }
   ],
   "source": [
    "#creating the pandas dataframe to store all of the citibike data\n",
    "cBdata = pd.read_csv(os.getenv(\"PUIDATA\") + \"/\" + datestring + '-citibike-tripdata.csv')\n",
    "cBdata.head()"
   ]
  },
  {
   "cell_type": "markdown",
   "metadata": {
    "collapsed": true
   },
   "source": [
    "## IDEA:\n",
    "## Female riders are more likely to be younger than male riders "
   ]
  },
  {
   "cell_type": "markdown",
   "metadata": {},
   "source": [
    "## NULL HYPHOTESIS:\n",
    "### Over the span of one month, the average age of female riders will be equal to or higher than the average age of male riders\n"
   ]
  },
  {
   "cell_type": "markdown",
   "metadata": {},
   "source": [
    "# _$H_0$_ :  $F_m >= M_m$\n",
    "# _$H_1$_ :  $F_m < M_m$\n",
    "\n",
    "## Significance level  $\\alpha=0.05$"
   ]
  },
  {
   "cell_type": "code",
   "execution_count": 7,
   "metadata": {
    "collapsed": false
   },
   "outputs": [],
   "source": [
    "# dropping columns\n",
    "cBdata.drop(['tripduration', 'starttime', 'stoptime', 'start station id',\n",
    "       'start station name', 'start station latitude',\n",
    "       'start station longitude', 'end station id', 'end station name',\n",
    "       'end station latitude', 'end station longitude', 'bikeid', 'usertype'], axis=1, inplace=True)"
   ]
  },
  {
   "cell_type": "code",
   "execution_count": 8,
   "metadata": {
    "collapsed": false
   },
   "outputs": [
    {
     "data": {
      "text/html": [
       "<div>\n",
       "<table border=\"1\" class=\"dataframe\">\n",
       "  <thead>\n",
       "    <tr style=\"text-align: right;\">\n",
       "      <th></th>\n",
       "      <th>birth year</th>\n",
       "      <th>gender</th>\n",
       "      <th>age</th>\n",
       "    </tr>\n",
       "  </thead>\n",
       "  <tbody>\n",
       "    <tr>\n",
       "      <th>0</th>\n",
       "      <td>1973.0</td>\n",
       "      <td>1</td>\n",
       "      <td>44.0</td>\n",
       "    </tr>\n",
       "    <tr>\n",
       "      <th>1</th>\n",
       "      <td>1990.0</td>\n",
       "      <td>1</td>\n",
       "      <td>27.0</td>\n",
       "    </tr>\n",
       "    <tr>\n",
       "      <th>2</th>\n",
       "      <td>1984.0</td>\n",
       "      <td>1</td>\n",
       "      <td>33.0</td>\n",
       "    </tr>\n",
       "    <tr>\n",
       "      <th>3</th>\n",
       "      <td>1984.0</td>\n",
       "      <td>1</td>\n",
       "      <td>33.0</td>\n",
       "    </tr>\n",
       "    <tr>\n",
       "      <th>4</th>\n",
       "      <td>NaN</td>\n",
       "      <td>0</td>\n",
       "      <td>NaN</td>\n",
       "    </tr>\n",
       "  </tbody>\n",
       "</table>\n",
       "</div>"
      ],
      "text/plain": [
       "   birth year  gender   age\n",
       "0      1973.0       1  44.0\n",
       "1      1990.0       1  27.0\n",
       "2      1984.0       1  33.0\n",
       "3      1984.0       1  33.0\n",
       "4         NaN       0   NaN"
      ]
     },
     "execution_count": 8,
     "metadata": {},
     "output_type": "execute_result"
    }
   ],
   "source": [
    "cBdata['age'] = 2017 - cBdata['birth year']\n",
    "cBdata.head()"
   ]
  },
  {
   "cell_type": "code",
   "execution_count": 9,
   "metadata": {
    "collapsed": false
   },
   "outputs": [
    {
     "data": {
      "text/html": [
       "<div>\n",
       "<table border=\"1\" class=\"dataframe\">\n",
       "  <thead>\n",
       "    <tr style=\"text-align: right;\">\n",
       "      <th></th>\n",
       "      <th>birth year</th>\n",
       "      <th>gender</th>\n",
       "      <th>age</th>\n",
       "    </tr>\n",
       "  </thead>\n",
       "  <tbody>\n",
       "    <tr>\n",
       "      <th>0</th>\n",
       "      <td>1973.0</td>\n",
       "      <td>1</td>\n",
       "      <td>44.0</td>\n",
       "    </tr>\n",
       "    <tr>\n",
       "      <th>1</th>\n",
       "      <td>1990.0</td>\n",
       "      <td>1</td>\n",
       "      <td>27.0</td>\n",
       "    </tr>\n",
       "    <tr>\n",
       "      <th>2</th>\n",
       "      <td>1984.0</td>\n",
       "      <td>1</td>\n",
       "      <td>33.0</td>\n",
       "    </tr>\n",
       "    <tr>\n",
       "      <th>3</th>\n",
       "      <td>1984.0</td>\n",
       "      <td>1</td>\n",
       "      <td>33.0</td>\n",
       "    </tr>\n",
       "    <tr>\n",
       "      <th>4</th>\n",
       "      <td>NaN</td>\n",
       "      <td>0</td>\n",
       "      <td>NaN</td>\n",
       "    </tr>\n",
       "  </tbody>\n",
       "</table>\n",
       "</div>"
      ],
      "text/plain": [
       "   birth year  gender   age\n",
       "0      1973.0       1  44.0\n",
       "1      1990.0       1  27.0\n",
       "2      1984.0       1  33.0\n",
       "3      1984.0       1  33.0\n",
       "4         NaN       0   NaN"
      ]
     },
     "execution_count": 9,
     "metadata": {},
     "output_type": "execute_result"
    }
   ],
   "source": [
    "cBdata.head()"
   ]
  },
  {
   "cell_type": "code",
   "execution_count": 10,
   "metadata": {
    "collapsed": false
   },
   "outputs": [
    {
     "name": "stdout",
     "output_type": "stream",
     "text": [
      "Populating the interactive namespace from numpy and matplotlib\n"
     ]
    }
   ],
   "source": [
    "%pylab inline\n",
    "\n",
    "gen_count = cBdata['gender'].value_counts()\n",
    "\n",
    "#extract by age and gender and group by age\n",
    "fem_count = (cBdata['age'][cBdata['gender'] == 2].groupby(cBdata['age']).count())/gen_count[2]\n",
    "male_count = (cBdata['age'][cBdata['gender'] == 1].groupby(cBdata['age']).count())/gen_count[1]\n",
    "\n",
    "\n"
   ]
  },
  {
   "cell_type": "code",
   "execution_count": 11,
   "metadata": {
    "collapsed": false
   },
   "outputs": [
    {
     "data": {
      "image/png": "[encoded data removed]",
      "text/plain": [
       "<matplotlib.figure.Figure at 0x7f7eea98e210>"
      ]
     },
     "metadata": {},
     "output_type": "display_data"
    }
   ],
   "source": [
    "fig = pl.figure(figsize(14,8))\n",
    "\n",
    "fem_count.plot(kind=\"bar\",  color='IndianRed', label='female')\n",
    "male_count.plot(kind=\"bar\",  color='SteelBlue', alpha=0.5, label='male')\n",
    "\n",
    "pl.title('Male and Female riders by Age', fontsize=22)\n",
    "pl.xlabel('Age Range', fontsize=20)\n",
    "pl.ylabel('Fraction of Riders', fontsize=20)\n",
    "pl.legend();"
   ]
  },
  {
   "cell_type": "markdown",
   "metadata": {},
   "source": [
    "### Figure 1: The above figure contains the distribution of the sample for Female and Male according to their ages. This is normalized"
   ]
  },
  {
   "cell_type": "code",
   "execution_count": 12,
   "metadata": {
    "collapsed": false
   },
   "outputs": [
    {
     "data": {
      "text/html": [
       "<div>\n",
       "<table border=\"1\" class=\"dataframe\">\n",
       "  <thead>\n",
       "    <tr style=\"text-align: right;\">\n",
       "      <th></th>\n",
       "      <th>gender</th>\n",
       "      <th>age</th>\n",
       "    </tr>\n",
       "  </thead>\n",
       "  <tbody>\n",
       "    <tr>\n",
       "      <th>1</th>\n",
       "      <td>1</td>\n",
       "      <td>40.398790</td>\n",
       "    </tr>\n",
       "    <tr>\n",
       "      <th>2</th>\n",
       "      <td>2</td>\n",
       "      <td>38.738415</td>\n",
       "    </tr>\n",
       "  </tbody>\n",
       "</table>\n",
       "</div>"
      ],
      "text/plain": [
       "   gender        age\n",
       "1       1  40.398790\n",
       "2       2  38.738415"
      ]
     },
     "execution_count": 12,
     "metadata": {},
     "output_type": "execute_result"
    }
   ],
   "source": [
    "cBavg = cBdata.groupby('gender', as_index=False).age.mean()\n",
    "cBavg = cBavg.drop(cBavg.index[0])\n",
    "cBavg"
   ]
  },
  {
   "cell_type": "code",
   "execution_count": 13,
   "metadata": {
    "collapsed": false
   },
   "outputs": [
    {
     "name": "stderr",
     "output_type": "stream",
     "text": [
      "/opt/rh/anaconda/root/envs/PUI2016_Python2/lib/python2.7/site-packages/ipykernel/__main__.py:1: SettingWithCopyWarning: \n",
      "A value is trying to be set on a copy of a slice from a DataFrame\n",
      "\n",
      "See the caveats in the documentation: http://pandas.pydata.org/pandas-docs/stable/indexing.html#indexing-view-versus-copy\n",
      "  if __name__ == '__main__':\n",
      "/opt/rh/anaconda/root/envs/PUI2016_Python2/lib/python2.7/site-packages/pandas/core/indexing.py:132: SettingWithCopyWarning: \n",
      "A value is trying to be set on a copy of a slice from a DataFrame\n",
      "\n",
      "See the caveats in the documentation: http://pandas.pydata.org/pandas-docs/stable/indexing.html#indexing-view-versus-copy\n",
      "  self._setitem_with_indexer(indexer, value)\n",
      "/opt/rh/anaconda/root/envs/PUI2016_Python2/lib/python2.7/site-packages/ipykernel/__main__.py:2: SettingWithCopyWarning: \n",
      "A value is trying to be set on a copy of a slice from a DataFrame\n",
      "\n",
      "See the caveats in the documentation: http://pandas.pydata.org/pandas-docs/stable/indexing.html#indexing-view-versus-copy\n",
      "  from ipykernel import kernelapp as app\n"
     ]
    }
   ],
   "source": [
    "cBavg['gender'][1] = 'Male'\n",
    "cBavg['gender'][2] = 'Female'\n"
   ]
  },
  {
   "cell_type": "code",
   "execution_count": 14,
   "metadata": {
    "collapsed": false
   },
   "outputs": [
    {
     "data": {
      "text/plain": [
       "<matplotlib.text.Text at 0x7f7ee0b8b7d0>"
      ]
     },
     "execution_count": 14,
     "metadata": {},
     "output_type": "execute_result"
    },
    {
     "data": {
      "image/png": "[encoded data removed]",
      "text/plain": [
       "<matplotlib.figure.Figure at 0x7f7ee0ca2210>"
      ]
     },
     "metadata": {},
     "output_type": "display_data"
    }
   ],
   "source": [
    "cBavg.plot.bar(x = 'gender',y = 'age', fontsize = 16, rot = 0)\n",
    "#fig = pl.figure(figsize(14,8))\n",
    "pl.title('Average ages of Male and Female Riders', fontsize = 22)\n",
    "pl.ylabel('Age', fontsize = 18)\n",
    "pl.xlabel('Gender', fontsize = 18)"
   ]
  },
  {
   "cell_type": "markdown",
   "metadata": {},
   "source": [
    "### Figure 2: The above figure we can see the average Age for Male riders is higher than the average age for Female riders"
   ]
  },
  {
   "cell_type": "code",
   "execution_count": null,
   "metadata": {
    "collapsed": true
   },
   "outputs": [],
   "source": []
  }
 ],
 "metadata": {
  "kernelspec": {
   "display_name": "PUI2016_Python2",
   "language": "python",
   "name": "pui2016_python2"
  },
  "language_info": {
   "codemirror_mode": {
    "name": "ipython",
    "version": 2
   },
   "file_extension": ".py",
   "mimetype": "text/x-python",
   "name": "python",
   "nbconvert_exporter": "python",
   "pygments_lexer": "ipython2",
   "version": "2.7.12"
  }
 },
 "nbformat": 4,
 "nbformat_minor": 0
}
