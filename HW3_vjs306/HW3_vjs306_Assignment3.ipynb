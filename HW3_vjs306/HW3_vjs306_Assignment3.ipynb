{
 "cells": [
  {
   "cell_type": "markdown",
   "metadata": {},
   "source": [
    "# Question: Is the new Bus route improving commute?\n",
    "\n",
    "##  Hypothesis: The commute time is lower with the new route as it was before\n",
    "\n",
    "\n",
    "###  - Old route average commute time (_$Told$_)\n",
    "###  - New route average commute time (_$Tnew$_)\n",
    "\n",
    "## Null Hypothesis  : the average commute time is the same or higher  with the new route as it was before \n",
    "## _$H_0$_  : Tnew >= Told\n",
    "\n",
    "## _$H_A$_  : Tnew < Told\n",
    "\n",
    "\n",
    "## Alternative Hypothesis  : the average commute time is significantly lower with the new route as it was before \n",
    "\n",
    "### Significance level $\\alpha=0.05$\n"
   ]
  },
  {
   "cell_type": "code",
   "execution_count": 71,
   "metadata": {
    "collapsed": false
   },
   "outputs": [],
   "source": [
    "import numpy as np\n",
    "import pandas as pd\n",
    "import pylab as pl\n",
    "import os"
   ]
  },
  {
   "cell_type": "code",
   "execution_count": 72,
   "metadata": {
    "collapsed": false
   },
   "outputs": [],
   "source": [
    "#os.system('wget https://raw.githubusercontent.com/fedhere/PUI2017_fb55/master/Lab3_fb55/times.txt')"
   ]
  },
  {
   "cell_type": "code",
   "execution_count": 73,
   "metadata": {
    "collapsed": false
   },
   "outputs": [],
   "source": [
    "#os.system('mv times.txt $PUIDATA')"
   ]
  },
  {
   "cell_type": "code",
   "execution_count": 74,
   "metadata": {
    "collapsed": false
   },
   "outputs": [],
   "source": [
    "#Better, so we just read and not download (although this is small dataset so it doesn't really matter)\n",
    "newDurations = pd.read_table(\"https://raw.githubusercontent.com/fedhere/\"\n",
    "                     \"PUI2017_fb55/master/Lab3_fb55/times.txt\", header=None).values.squeeze()\n"
   ]
  },
  {
   "cell_type": "code",
   "execution_count": 75,
   "metadata": {
    "collapsed": false
   },
   "outputs": [
    {
     "name": "stdout",
     "output_type": "stream",
     "text": [
      "Tnew:  34.4661616883\n"
     ]
    }
   ],
   "source": [
    "new_mean = newDurations.mean()\n",
    "print \"Tnew: \" , new_mean"
   ]
  },
  {
   "cell_type": "code",
   "execution_count": 76,
   "metadata": {
    "collapsed": true
   },
   "outputs": [],
   "source": [
    "oldMean = 36\n",
    "oldStdev = 6\n",
    "alpha = 0.05"
   ]
  },
  {
   "cell_type": "code",
   "execution_count": 77,
   "metadata": {
    "collapsed": false
   },
   "outputs": [
    {
     "name": "stdout",
     "output_type": "stream",
     "text": [
      "Z = 2.55639718617\n"
     ]
    }
   ],
   "source": [
    "zTest = (oldMean - newDurations.mean())/(oldStdev/(np.sqrt(len(newDurations))))\n",
    "print \"Z =\" , zTest"
   ]
  },
  {
   "cell_type": "markdown",
   "metadata": {
    "collapsed": false
   },
   "source": [
    "## Because the value of the Z test is greater than 2 we reject the Null Hypothesis of the average commute time being same or higher with the new route. And we then accept the alternative hypothesis which was:   yes, the average commute time is significantly lower with the new route as it was before .   "
   ]
  },
  {
   "cell_type": "code",
   "execution_count": 70,
   "metadata": {
    "collapsed": false
   },
   "outputs": [],
   "source": [
    "#Because my significance level is 0.05, means 2sigma\n",
    "# If p(Ha) - p (Ho) > 0.05 the null hypothesis is falsified at the 1 - alpha confidence level\n",
    "# p(Ha)\n",
    "#2.5 > 2"
   ]
  },
  {
   "cell_type": "code",
   "execution_count": null,
   "metadata": {
    "collapsed": true
   },
   "outputs": [],
   "source": [
    "#Rejecting the Null Hypothesis: what is the p value?\n",
    "#is the probability of getting a result at least as extreme as the one you\n",
    "#observed just by chance lower than the significance level you established?"
   ]
  }
 ],
 "metadata": {
  "kernelspec": {
   "display_name": "PUI2016_Python2",
   "language": "python",
   "name": "pui2016_python2"
  },
  "language_info": {
   "codemirror_mode": {
    "name": "ipython",
    "version": 2
   },
   "file_extension": ".py",
   "mimetype": "text/x-python",
   "name": "python",
   "nbconvert_exporter": "python",
   "pygments_lexer": "ipython2",
   "version": "2.7.12"
  }
 },
 "nbformat": 4,
 "nbformat_minor": 0
}
