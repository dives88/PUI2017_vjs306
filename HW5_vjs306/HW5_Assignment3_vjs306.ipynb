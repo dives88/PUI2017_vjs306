{
 "cells": [
  {
   "cell_type": "code",
   "execution_count": 1,
   "metadata": {
    "collapsed": false
   },
   "outputs": [
    {
     "name": "stdout",
     "output_type": "stream",
     "text": [
      "Populating the interactive namespace from numpy and matplotlib\n"
     ]
    },
    {
     "name": "stderr",
     "output_type": "stream",
     "text": [
      "/opt/rh/anaconda/root/envs/PUI2016_Python2/lib/python2.7/site-packages/IPython/html.py:14: ShimWarning: The `IPython.html` package has been deprecated. You should import from `notebook` instead. `IPython.html.widgets` has moved to `ipywidgets`.\n",
      "  \"`IPython.html.widgets` has moved to `ipywidgets`.\", ShimWarning)\n"
     ]
    }
   ],
   "source": [
    "#importing packages\n",
    "import os\n",
    "import numpy as np\n",
    "import pandas as pd\n",
    "import pylab as pl\n",
    "import seaborn as sns\n",
    "\n",
    "%pylab inline"
   ]
  },
  {
   "cell_type": "code",
   "execution_count": 2,
   "metadata": {
    "collapsed": false
   },
   "outputs": [
    {
     "data": {
      "text/plain": [
       "0"
      ]
     },
     "execution_count": 2,
     "metadata": {},
     "output_type": "execute_result"
    }
   ],
   "source": [
    "#Download the files:\n",
    "# For reproduceability I have uploaded 3 files into my github, and the fourth I will read from\n",
    "# Federica's github. \n",
    "\n",
    "#1. World firearms murders and ownership - Sheet 1.csv, \n",
    "#     from Federica's , originally from: \n",
    "#         https://docs.google.com/spreadsheets/d/1chqUZHuY6cXYrRYkuE0uwXisGaYvr7durZHJhpLGycs/edit#gid=0\")\n",
    "os.system(\"curl -O https://raw.githubusercontent.com\"+\n",
    "          \"/fedhere/PUI2017_fb55/master/HW5_fb55/World%20firearms%20murders%20and%20ownership%20-%20Sheet%201.csv\")\n",
    "\n",
    "os.system(\"mv \" + \"World%20firearms%20murders%20and%20ownership%20-%20Sheet%201.csv \" \n",
    "          + os.getenv(\"PUIDATA\") + \"/world_firearms.csv \")\n",
    "\n",
    "#2. The number of gun owned vs. the number of mass shooting\n",
    "#     originally from: https://datawrapper.dwcdn.net/pvLFI/4/\"\n",
    "os.system(\"curl -O https://raw.githubusercontent.com\"+\n",
    "          \"/valschi/PUI2017_vjs306/master/HW5_vjs306/rawfiles/data-pvLFI.csv\")\n",
    "\n",
    "os.system(\"mv \" + \"data-pvLFI.csv \" + os.getenv(\"PUIDATA\") + \"/world_shootings.csv \")\n",
    "\n",
    "\n",
    "#3. The world population\n",
    "#      originally from:   https://data.worldbank.org/indicator/SP.POP.TOTL\n",
    "os.system(\"curl -O https://raw.githubusercontent.com\"+\n",
    "          \"/valschi/PUI2017_vjs306/master/HW5_vjs306/rawfiles/API_SP.POP.TOTL_DS2_en_csv_v2.csv\")\n",
    "\n",
    "os.system(\"mv \" + \"API_SP.POP.TOTL_DS2_en_csv_v2.csv \" + os.getenv(\"PUIDATA\") + \"/world_population.csv \")\n",
    "\n",
    "#4. The world gdp\n",
    "# .    originally from:   https://data.worldbank.org/indicator/NY.GDP.MKTP.CD\n",
    "os.system(\"curl -O https://raw.githubusercontent.com\"+\n",
    "          \"/valschi/PUI2017_vjs306/master/HW5_vjs306/rawfiles/API_NY.GDP.MKTP.CD_DS2_en_csv_v2.csv\")\n",
    "\n",
    "os.system(\"mv \" + \"API_NY.GDP.MKTP.CD_DS2_en_csv_v2.csv \" + os.getenv(\"PUIDATA\") + \"/world_gdp.csv \")\n",
    "\n",
    "#manage files in PUIdata\n",
    "#code goes here\n"
   ]
  },
  {
   "cell_type": "markdown",
   "metadata": {
    "toc": "true"
   },
   "source": [
    "# Table of Contents\n",
    " <p><div class=\"lev1 toc-item\"><a href=\"#DATA:\" data-toc-modified-id=\"DATA:-1\"><span class=\"toc-item-num\">1&nbsp;&nbsp;</span>DATA:</a></div><div class=\"lev1 toc-item\"><a href=\"#exploration\" data-toc-modified-id=\"exploration-2\"><span class=\"toc-item-num\">2&nbsp;&nbsp;</span>exploration</a></div><div class=\"lev2 toc-item\"><a href=\"#plot-mass-shooting-vs-gdp-in-absolute-numbers,-and-per-person.-Show-the-errorbars-(y-errors)\" data-toc-modified-id=\"plot-mass-shooting-vs-gdp-in-absolute-numbers,-and-per-person.-Show-the-errorbars-(y-errors)-21\"><span class=\"toc-item-num\">2.1&nbsp;&nbsp;</span>plot mass shooting vs gdp in absolute numbers, and per person. Show the errorbars (y errors)</a></div><div class=\"lev2 toc-item\"><a href=\"#plot-the-average-number-of-civilian-fire-arms-per-person\" data-toc-modified-id=\"plot-the-average-number-of-civilian-fire-arms-per-person-22\"><span class=\"toc-item-num\">2.2&nbsp;&nbsp;</span>plot the average number of civilian fire arms per person</a></div><div class=\"lev2 toc-item\"><a href=\"#plot-the-average-number-of-homicide-by-fire-arms-per-person\" data-toc-modified-id=\"plot-the-average-number-of-homicide-by-fire-arms-per-person-23\"><span class=\"toc-item-num\">2.3&nbsp;&nbsp;</span>plot the average number of homicide by fire arms per person</a></div><div class=\"lev2 toc-item\"><a href=\"#plot-the-number-of--homicides-by-fire-arm-against-the-number-of-civilian-firearms.-plot-the--US-in-a-different-color\" data-toc-modified-id=\"plot-the-number-of--homicides-by-fire-arm-against-the-number-of-civilian-firearms.-plot-the--US-in-a-different-color-24\"><span class=\"toc-item-num\">2.4&nbsp;&nbsp;</span>plot the number of  homicides by fire arm against the number of civilian firearms. plot the  US in a different color</a></div><div class=\"lev2 toc-item\"><a href=\"#plot-the-number-of--mass-shootings-against-the-number-of-civilian-firearms.-plot-the--US-in-a-different-color\" data-toc-modified-id=\"plot-the-number-of--mass-shootings-against-the-number-of-civilian-firearms.-plot-the--US-in-a-different-color-25\"><span class=\"toc-item-num\">2.5&nbsp;&nbsp;</span>plot the number of  mass shootings against the number of civilian firearms. plot the  US in a different color</a></div><div class=\"lev1 toc-item\"><a href=\"#Modeling\" data-toc-modified-id=\"Modeling-3\"><span class=\"toc-item-num\">3&nbsp;&nbsp;</span>Modeling</a></div><div class=\"lev2 toc-item\"><a href=\"#fit-a-line-to-the-Number-of-mass-shootings--per-person-as-a-function-of-Average-total-all-civilian-firearms-per-person.\" data-toc-modified-id=\"fit-a-line-to-the-Number-of-mass-shootings--per-person-as-a-function-of-Average-total-all-civilian-firearms-per-person.-31\"><span class=\"toc-item-num\">3.1&nbsp;&nbsp;</span>fit a line to the Number of mass shootings  per person as a function of Average total all civilian firearms per person.</a></div><div class=\"lev2 toc-item\"><a href=\"#Extra-credit:-calculate-the-confidence-interval-by-hand-and-also-plot-them\" data-toc-modified-id=\"Extra-credit:-calculate-the-confidence-interval-by-hand-and-also-plot-them-32\"><span class=\"toc-item-num\">3.2&nbsp;&nbsp;</span>Extra credit: calculate the confidence interval by hand and also plot them</a></div><div class=\"lev2 toc-item\"><a href=\"#Use-the-stsatsmodels.gaphics-package-to-plot-the-influence-plot.\" data-toc-modified-id=\"Use-the-stsatsmodels.gaphics-package-to-plot-the-influence-plot.-33\"><span class=\"toc-item-num\">3.3&nbsp;&nbsp;</span>Use the stsatsmodels.gaphics package to plot the influence plot.</a></div><div class=\"lev2 toc-item\"><a href=\"#Extra-credit:-calculate-from-scratch-the-stanrdardized-residuals-and-the-H-leverage-for-the-WLS-model-and-discuss-if-there-are-any-differences\" data-toc-modified-id=\"Extra-credit:-calculate-from-scratch-the-stanrdardized-residuals-and-the-H-leverage-for-the-WLS-model-and-discuss-if-there-are-any-differences-34\"><span class=\"toc-item-num\">3.4&nbsp;&nbsp;</span>Extra credit: calculate from scratch the stanrdardized residuals and the H leverage for the WLS model and discuss if there are any differences</a></div><div class=\"lev2 toc-item\"><a href=\"#Discuss-your-findings\" data-toc-modified-id=\"Discuss-your-findings-35\"><span class=\"toc-item-num\">3.5&nbsp;&nbsp;</span>Discuss your findings</a></div>"
   ]
  },
  {
   "cell_type": "markdown",
   "metadata": {},
   "source": [
    "** VALERIA's HOMEWORK **\n",
    "\n",
    "*based from:*\n",
    "\n",
    "**regression exercise**\n",
    "\n",
    "**written by Federica B Bianco CUSP 2017**\n",
    "\n",
    "**for PUI lecture on models and linear regression**\n",
    "\n",
    "\n",
    "\n"
   ]
  },
  {
   "cell_type": "markdown",
   "metadata": {},
   "source": [
    "** Investigate linear relationships between fire arm possession, homicides by fire arms, and mass shootings for different countries, considering also the country GDP **"
   ]
  },
  {
   "cell_type": "markdown",
   "metadata": {},
   "source": [
    "# DATA: \n",
    "\n",
    "The Guardian firearms murders and ownership data. The relevans sheet is uploaded in the github repository as a csv file. Download it from there. Note: this dataset is from 2012.\n",
    "\n",
    "**Extra credit**: download directly from google docs with a google API\n",
    "\n",
    "https://docs.google.com/spreadsheets/d/1chqUZHuY6cXYrRYkuE0uwXisGaYvr7durZHJhpLGycs/edit#gid=0\n",
    "\n",
    "Number of mass shootings: find the link here https://datawrapper.dwcdn.net/pvLFI/4/\n",
    "\n",
    "The world population by country find the download link here :\n",
    "https://data.worldbank.org/indicator/SP.POP.TOTL\n",
    "\n",
    "Remember that all read or downloads have to me reproducible.\n",
    "\n",
    "Merge all datasets. After throwing away the irrelevant data it should look something like this (I renamed the GDP and the population as gdp\" and \"pop\")\n",
    "\n",
    "Throughout, when I ask you to include errors in plots or models, use Poisson statistics: the error is the square root of the number you are considering (e.g. this country has N fire arms +/- square root of N, or this country has Np [= N/population +/- (square root of N) / population] fire arms per person)."
   ]
  },
  {
   "cell_type": "code",
   "execution_count": 2,
   "metadata": {
    "collapsed": false
   },
   "outputs": [],
   "source": [
    "#Reading the csv's from prepopulated names\n",
    "df_firearms = pd.read_csv(os.getenv(\"PUIDATA\") + \"/\" + 'world_firearms.csv')\n",
    "df_shootings = pd.read_csv(os.getenv(\"PUIDATA\") + \"/\" + 'world_shootings.csv')\n",
    "df_pop = pd.read_csv(os.getenv(\"PUIDATA\") + \"/\" + 'world_population.csv', skiprows=[0,1,2,3])\n",
    "df_gdp = pd.read_csv(os.getenv(\"PUIDATA\") + \"/\" + 'world_gdp.csv',  skiprows=[0,1,2,3])\n",
    "\n",
    "#droping the extra columns and renaming for convention\n",
    "\n",
    "df_firearms.drop(['ISO code','Source','Homicide by firearm rate per 100,000 pop',\n",
    "                  'Rank by rate of ownership','% of homicides by firearm',\n",
    "                 'Average firearms per 100 people'], axis=1,inplace = True)\n",
    "df_firearms = df_firearms.rename(columns={'Country/Territory': 'Country'})\n",
    "df_pop = df_pop[['Country Name','2012']]\n",
    "df_pop = df_pop.rename(columns={'2012': 'Population in 2012','Country Name':'Country'})\n",
    "df_gdp = df_gdp[['Country Name', '2012']]\n",
    "df_gdp = df_gdp.rename(columns={'2012': 'gdp in 2012','Country Name':'Country'})"
   ]
  },
  {
   "cell_type": "code",
   "execution_count": 3,
   "metadata": {
    "collapsed": false
   },
   "outputs": [
    {
     "data": {
      "text/html": [
       "<div>\n",
       "<table border=\"1\" class=\"dataframe\">\n",
       "  <thead>\n",
       "    <tr style=\"text-align: right;\">\n",
       "      <th></th>\n",
       "      <th>Country</th>\n",
       "      <th>Number of homicides by firearm</th>\n",
       "      <th>Average total all civilian firearms</th>\n",
       "      <th>Guns/100 inhabitants</th>\n",
       "      <th>Number of mass shootings</th>\n",
       "      <th>Population in 2012</th>\n",
       "      <th>gdp in 2012</th>\n",
       "    </tr>\n",
       "  </thead>\n",
       "  <tbody>\n",
       "    <tr>\n",
       "      <th>0</th>\n",
       "      <td>Australia</td>\n",
       "      <td>30.0</td>\n",
       "      <td>3050000.0</td>\n",
       "      <td>15.0</td>\n",
       "      <td>4</td>\n",
       "      <td>22728254.0</td>\n",
       "      <td>1.538194e+12</td>\n",
       "    </tr>\n",
       "    <tr>\n",
       "      <th>1</th>\n",
       "      <td>Austria</td>\n",
       "      <td>18.0</td>\n",
       "      <td>2500000.0</td>\n",
       "      <td>30.4</td>\n",
       "      <td>1</td>\n",
       "      <td>8429991.0</td>\n",
       "      <td>4.074516e+11</td>\n",
       "    </tr>\n",
       "    <tr>\n",
       "      <th>2</th>\n",
       "      <td>Canada</td>\n",
       "      <td>173.0</td>\n",
       "      <td>9950000.0</td>\n",
       "      <td>30.8</td>\n",
       "      <td>4</td>\n",
       "      <td>34750545.0</td>\n",
       "      <td>1.824289e+12</td>\n",
       "    </tr>\n",
       "    <tr>\n",
       "      <th>3</th>\n",
       "      <td>Denmark</td>\n",
       "      <td>15.0</td>\n",
       "      <td>650000.0</td>\n",
       "      <td>12.0</td>\n",
       "      <td>0</td>\n",
       "      <td>5591572.0</td>\n",
       "      <td>3.271489e+11</td>\n",
       "    </tr>\n",
       "    <tr>\n",
       "      <th>4</th>\n",
       "      <td>Finland</td>\n",
       "      <td>24.0</td>\n",
       "      <td>2400000.0</td>\n",
       "      <td>45.3</td>\n",
       "      <td>2</td>\n",
       "      <td>5413971.0</td>\n",
       "      <td>2.567065e+11</td>\n",
       "    </tr>\n",
       "  </tbody>\n",
       "</table>\n",
       "</div>"
      ],
      "text/plain": [
       "     Country  Number of homicides by firearm  \\\n",
       "0  Australia                            30.0   \n",
       "1    Austria                            18.0   \n",
       "2     Canada                           173.0   \n",
       "3    Denmark                            15.0   \n",
       "4    Finland                            24.0   \n",
       "\n",
       "   Average total all civilian firearms  Guns/100 inhabitants  \\\n",
       "0                            3050000.0                  15.0   \n",
       "1                            2500000.0                  30.4   \n",
       "2                            9950000.0                  30.8   \n",
       "3                             650000.0                  12.0   \n",
       "4                            2400000.0                  45.3   \n",
       "\n",
       "   Number of mass shootings  Population in 2012   gdp in 2012  \n",
       "0                         4          22728254.0  1.538194e+12  \n",
       "1                         1           8429991.0  4.074516e+11  \n",
       "2                         4          34750545.0  1.824289e+12  \n",
       "3                         0           5591572.0  3.271489e+11  \n",
       "4                         2           5413971.0  2.567065e+11  "
      ]
     },
     "execution_count": 3,
     "metadata": {},
     "output_type": "execute_result"
    }
   ],
   "source": [
    "#one dataframe to rule them all\n",
    "\n",
    "df_a = pd.merge(df_firearms, df_shootings, on=\"Country\")\n",
    "df_b = pd.merge(df_a, df_pop, on=\"Country\")\n",
    "df_all = pd.merge(df_b, df_gdp, on=\"Country\")\n",
    "df_all.head()"
   ]
  },
  {
   "cell_type": "code",
   "execution_count": 4,
   "metadata": {
    "collapsed": false
   },
   "outputs": [
    {
     "data": {
      "text/html": [
       "<div>\n",
       "<table border=\"1\" class=\"dataframe\">\n",
       "  <thead>\n",
       "    <tr style=\"text-align: right;\">\n",
       "      <th></th>\n",
       "      <th>Country</th>\n",
       "      <th>Number of homicides by firearm</th>\n",
       "      <th>Average total all civilian firearms</th>\n",
       "      <th>Guns/100 inhabitants</th>\n",
       "      <th>Number of mass shootings</th>\n",
       "      <th>Population in 2012</th>\n",
       "      <th>gdp in 2012</th>\n",
       "    </tr>\n",
       "  </thead>\n",
       "  <tbody>\n",
       "    <tr>\n",
       "      <th>0</th>\n",
       "      <td>Australia</td>\n",
       "      <td>30.0</td>\n",
       "      <td>3050000.0</td>\n",
       "      <td>15.0</td>\n",
       "      <td>4</td>\n",
       "      <td>22728254.0</td>\n",
       "      <td>1.538194e+12</td>\n",
       "    </tr>\n",
       "    <tr>\n",
       "      <th>1</th>\n",
       "      <td>Austria</td>\n",
       "      <td>18.0</td>\n",
       "      <td>2500000.0</td>\n",
       "      <td>30.4</td>\n",
       "      <td>1</td>\n",
       "      <td>8429991.0</td>\n",
       "      <td>4.074516e+11</td>\n",
       "    </tr>\n",
       "    <tr>\n",
       "      <th>2</th>\n",
       "      <td>Canada</td>\n",
       "      <td>173.0</td>\n",
       "      <td>9950000.0</td>\n",
       "      <td>30.8</td>\n",
       "      <td>4</td>\n",
       "      <td>34750545.0</td>\n",
       "      <td>1.824289e+12</td>\n",
       "    </tr>\n",
       "    <tr>\n",
       "      <th>3</th>\n",
       "      <td>Denmark</td>\n",
       "      <td>15.0</td>\n",
       "      <td>650000.0</td>\n",
       "      <td>12.0</td>\n",
       "      <td>0</td>\n",
       "      <td>5591572.0</td>\n",
       "      <td>3.271489e+11</td>\n",
       "    </tr>\n",
       "    <tr>\n",
       "      <th>4</th>\n",
       "      <td>Finland</td>\n",
       "      <td>24.0</td>\n",
       "      <td>2400000.0</td>\n",
       "      <td>45.3</td>\n",
       "      <td>2</td>\n",
       "      <td>5413971.0</td>\n",
       "      <td>2.567065e+11</td>\n",
       "    </tr>\n",
       "    <tr>\n",
       "      <th>5</th>\n",
       "      <td>France</td>\n",
       "      <td>35.0</td>\n",
       "      <td>19000000.0</td>\n",
       "      <td>31.2</td>\n",
       "      <td>6</td>\n",
       "      <td>65659790.0</td>\n",
       "      <td>2.681416e+12</td>\n",
       "    </tr>\n",
       "    <tr>\n",
       "      <th>6</th>\n",
       "      <td>Germany</td>\n",
       "      <td>158.0</td>\n",
       "      <td>25000000.0</td>\n",
       "      <td>30.3</td>\n",
       "      <td>7</td>\n",
       "      <td>80425823.0</td>\n",
       "      <td>3.543984e+12</td>\n",
       "    </tr>\n",
       "    <tr>\n",
       "      <th>7</th>\n",
       "      <td>Greece</td>\n",
       "      <td>29.0</td>\n",
       "      <td>2500000.0</td>\n",
       "      <td>22.5</td>\n",
       "      <td>0</td>\n",
       "      <td>11045011.0</td>\n",
       "      <td>2.456707e+11</td>\n",
       "    </tr>\n",
       "    <tr>\n",
       "      <th>8</th>\n",
       "      <td>Hungary</td>\n",
       "      <td>7.0</td>\n",
       "      <td>560000.0</td>\n",
       "      <td>5.5</td>\n",
       "      <td>0</td>\n",
       "      <td>9920362.0</td>\n",
       "      <td>1.273211e+11</td>\n",
       "    </tr>\n",
       "    <tr>\n",
       "      <th>9</th>\n",
       "      <td>Iceland</td>\n",
       "      <td>0.0</td>\n",
       "      <td>90000.0</td>\n",
       "      <td>30.3</td>\n",
       "      <td>0</td>\n",
       "      <td>320716.0</td>\n",
       "      <td>1.421858e+10</td>\n",
       "    </tr>\n",
       "    <tr>\n",
       "      <th>10</th>\n",
       "      <td>Ireland</td>\n",
       "      <td>21.0</td>\n",
       "      <td>360000.0</td>\n",
       "      <td>8.6</td>\n",
       "      <td>0</td>\n",
       "      <td>4586897.0</td>\n",
       "      <td>2.258192e+11</td>\n",
       "    </tr>\n",
       "    <tr>\n",
       "      <th>11</th>\n",
       "      <td>Italy</td>\n",
       "      <td>417.0</td>\n",
       "      <td>7000000.0</td>\n",
       "      <td>11.9</td>\n",
       "      <td>0</td>\n",
       "      <td>59539717.0</td>\n",
       "      <td>2.072823e+12</td>\n",
       "    </tr>\n",
       "    <tr>\n",
       "      <th>12</th>\n",
       "      <td>Japan</td>\n",
       "      <td>11.0</td>\n",
       "      <td>710000.0</td>\n",
       "      <td>0.6</td>\n",
       "      <td>0</td>\n",
       "      <td>127629000.0</td>\n",
       "      <td>6.203213e+12</td>\n",
       "    </tr>\n",
       "    <tr>\n",
       "      <th>13</th>\n",
       "      <td>Luxembourg</td>\n",
       "      <td>3.0</td>\n",
       "      <td>70000.0</td>\n",
       "      <td>15.3</td>\n",
       "      <td>0</td>\n",
       "      <td>530946.0</td>\n",
       "      <td>5.667796e+10</td>\n",
       "    </tr>\n",
       "    <tr>\n",
       "      <th>14</th>\n",
       "      <td>New Zealand</td>\n",
       "      <td>7.0</td>\n",
       "      <td>925000.0</td>\n",
       "      <td>22.6</td>\n",
       "      <td>3</td>\n",
       "      <td>4408100.0</td>\n",
       "      <td>1.761929e+11</td>\n",
       "    </tr>\n",
       "    <tr>\n",
       "      <th>15</th>\n",
       "      <td>Norway</td>\n",
       "      <td>2.0</td>\n",
       "      <td>1400000.0</td>\n",
       "      <td>31.3</td>\n",
       "      <td>1</td>\n",
       "      <td>5018573.0</td>\n",
       "      <td>5.097049e+11</td>\n",
       "    </tr>\n",
       "    <tr>\n",
       "      <th>16</th>\n",
       "      <td>Poland</td>\n",
       "      <td>35.0</td>\n",
       "      <td>510000.0</td>\n",
       "      <td>1.3</td>\n",
       "      <td>0</td>\n",
       "      <td>38063164.0</td>\n",
       "      <td>5.003443e+11</td>\n",
       "    </tr>\n",
       "    <tr>\n",
       "      <th>17</th>\n",
       "      <td>Portugal</td>\n",
       "      <td>44.0</td>\n",
       "      <td>900000.0</td>\n",
       "      <td>8.5</td>\n",
       "      <td>1</td>\n",
       "      <td>10514844.0</td>\n",
       "      <td>2.163682e+11</td>\n",
       "    </tr>\n",
       "    <tr>\n",
       "      <th>18</th>\n",
       "      <td>Spain</td>\n",
       "      <td>90.0</td>\n",
       "      <td>4500000.0</td>\n",
       "      <td>10.4</td>\n",
       "      <td>1</td>\n",
       "      <td>46773055.0</td>\n",
       "      <td>1.335946e+12</td>\n",
       "    </tr>\n",
       "    <tr>\n",
       "      <th>19</th>\n",
       "      <td>Sweden</td>\n",
       "      <td>37.0</td>\n",
       "      <td>2800000.0</td>\n",
       "      <td>31.6</td>\n",
       "      <td>2</td>\n",
       "      <td>9519374.0</td>\n",
       "      <td>5.438806e+11</td>\n",
       "    </tr>\n",
       "    <tr>\n",
       "      <th>20</th>\n",
       "      <td>Switzerland</td>\n",
       "      <td>57.0</td>\n",
       "      <td>3400000.0</td>\n",
       "      <td>45.7</td>\n",
       "      <td>2</td>\n",
       "      <td>7996861.0</td>\n",
       "      <td>6.650541e+11</td>\n",
       "    </tr>\n",
       "    <tr>\n",
       "      <th>21</th>\n",
       "      <td>United States</td>\n",
       "      <td>9146.0</td>\n",
       "      <td>270000000.0</td>\n",
       "      <td>88.8</td>\n",
       "      <td>78</td>\n",
       "      <td>313998379.0</td>\n",
       "      <td>1.615526e+13</td>\n",
       "    </tr>\n",
       "  </tbody>\n",
       "</table>\n",
       "</div>"
      ],
      "text/plain": [
       "          Country  Number of homicides by firearm  \\\n",
       "0       Australia                            30.0   \n",
       "1         Austria                            18.0   \n",
       "2          Canada                           173.0   \n",
       "3         Denmark                            15.0   \n",
       "4         Finland                            24.0   \n",
       "5          France                            35.0   \n",
       "6         Germany                           158.0   \n",
       "7          Greece                            29.0   \n",
       "8         Hungary                             7.0   \n",
       "9         Iceland                             0.0   \n",
       "10        Ireland                            21.0   \n",
       "11          Italy                           417.0   \n",
       "12          Japan                            11.0   \n",
       "13     Luxembourg                             3.0   \n",
       "14    New Zealand                             7.0   \n",
       "15         Norway                             2.0   \n",
       "16         Poland                            35.0   \n",
       "17       Portugal                            44.0   \n",
       "18          Spain                            90.0   \n",
       "19         Sweden                            37.0   \n",
       "20    Switzerland                            57.0   \n",
       "21  United States                          9146.0   \n",
       "\n",
       "    Average total all civilian firearms  Guns/100 inhabitants  \\\n",
       "0                             3050000.0                  15.0   \n",
       "1                             2500000.0                  30.4   \n",
       "2                             9950000.0                  30.8   \n",
       "3                              650000.0                  12.0   \n",
       "4                             2400000.0                  45.3   \n",
       "5                            19000000.0                  31.2   \n",
       "6                            25000000.0                  30.3   \n",
       "7                             2500000.0                  22.5   \n",
       "8                              560000.0                   5.5   \n",
       "9                               90000.0                  30.3   \n",
       "10                             360000.0                   8.6   \n",
       "11                            7000000.0                  11.9   \n",
       "12                             710000.0                   0.6   \n",
       "13                              70000.0                  15.3   \n",
       "14                             925000.0                  22.6   \n",
       "15                            1400000.0                  31.3   \n",
       "16                             510000.0                   1.3   \n",
       "17                             900000.0                   8.5   \n",
       "18                            4500000.0                  10.4   \n",
       "19                            2800000.0                  31.6   \n",
       "20                            3400000.0                  45.7   \n",
       "21                          270000000.0                  88.8   \n",
       "\n",
       "    Number of mass shootings  Population in 2012   gdp in 2012  \n",
       "0                          4          22728254.0  1.538194e+12  \n",
       "1                          1           8429991.0  4.074516e+11  \n",
       "2                          4          34750545.0  1.824289e+12  \n",
       "3                          0           5591572.0  3.271489e+11  \n",
       "4                          2           5413971.0  2.567065e+11  \n",
       "5                          6          65659790.0  2.681416e+12  \n",
       "6                          7          80425823.0  3.543984e+12  \n",
       "7                          0          11045011.0  2.456707e+11  \n",
       "8                          0           9920362.0  1.273211e+11  \n",
       "9                          0            320716.0  1.421858e+10  \n",
       "10                         0           4586897.0  2.258192e+11  \n",
       "11                         0          59539717.0  2.072823e+12  \n",
       "12                         0         127629000.0  6.203213e+12  \n",
       "13                         0            530946.0  5.667796e+10  \n",
       "14                         3           4408100.0  1.761929e+11  \n",
       "15                         1           5018573.0  5.097049e+11  \n",
       "16                         0          38063164.0  5.003443e+11  \n",
       "17                         1          10514844.0  2.163682e+11  \n",
       "18                         1          46773055.0  1.335946e+12  \n",
       "19                         2           9519374.0  5.438806e+11  \n",
       "20                         2           7996861.0  6.650541e+11  \n",
       "21                        78         313998379.0  1.615526e+13  "
      ]
     },
     "execution_count": 4,
     "metadata": {},
     "output_type": "execute_result"
    }
   ],
   "source": [
    "df_all"
   ]
  },
  {
   "cell_type": "code",
   "execution_count": 5,
   "metadata": {
    "ExecuteTime": {
     "end_time": "2017-10-12T11:18:40.575581",
     "start_time": "2017-10-12T11:18:40.446116"
    },
    "collapsed": false,
    "run_control": {
     "frozen": false,
     "read_only": false
    }
   },
   "outputs": [],
   "source": [
    "#Below original Federica's code, I am going to comment as it will error out\n",
    "#df_ = df_.merge(ms, right_on=\"Country\", left_on=\"Country Name\")\n",
    "#df_.head()"
   ]
  },
  {
   "cell_type": "markdown",
   "metadata": {},
   "source": [
    "# exploration\n",
    "\n",
    "## plot mass shooting vs gdp in absolute numbers, and per person. Show the errorbars (y errors)\n",
    "\n",
    "Use Poisson statistics for the errorbars on the number of mass shootings (optional: include errors on the population, also as Poisson statistics)\n",
    "\n",
    "Are there any points that look like they may be outilers?\n"
   ]
  },
  {
   "cell_type": "code",
   "execution_count": 6,
   "metadata": {
    "collapsed": false
   },
   "outputs": [
    {
     "data": {
      "image/png": "[encoded data removed]",
      "text/plain": [
       "<matplotlib.figure.Figure at 0x7f5dfe104090>"
      ]
     },
     "metadata": {},
     "output_type": "display_data"
    },
    {
     "name": "stdout",
     "output_type": "stream",
     "text": [
      "Figure1: Number of mass shooting vs GDP, errors represent Poisson statistics.\n",
      "The datapoint to the top right of the plot is the USA, which has both the highest GDP and the highest number of mass shootings\n"
     ]
    }
   ],
   "source": [
    "fig = pl.figure(figsize=(14,4)) \n",
    "ax1 = fig.add_subplot(111)\n",
    "\n",
    "ax1.set_title(\"Number of mass shootings vs GDP\")\n",
    "scatter = ax1.scatter(df_all['gdp in 2012'] / 1e9, df_all['Number of mass shootings'])\n",
    "ax1.errorbar(df_all['gdp in 2012'] / 1e9, df_all['Number of mass shootings'], \n",
    "            yerr = np.sqrt(df_all['Number of mass shootings'] * 1.0), fmt = '.')\n",
    "ax1.set_xlabel(\"GDP (in billions)\")\n",
    "ax1.set_ylabel(\"Number of mass shooting per person\")\n",
    "ax1.set_ylim()\n",
    "pl.show()\n",
    "print (\"Figure1: Number of mass shooting vs GDP, \" + \n",
    "       \"errors represent Poisson statistics.\\n\" + \n",
    "       \"The datapoint to the top right of the plot is the USA, \" + \n",
    "       \"which has both the highest GDP and the highest number of mass shootings\")\n"
   ]
  },
  {
   "cell_type": "code",
   "execution_count": 7,
   "metadata": {
    "collapsed": false
   },
   "outputs": [
    {
     "data": {
      "image/png": "[encoded data removed]",
      "text/plain": [
       "<matplotlib.figure.Figure at 0x7f5dfe0d4790>"
      ]
     },
     "metadata": {},
     "output_type": "display_data"
    },
    {
     "name": "stdout",
     "output_type": "stream",
     "text": [
      "Figure2: Number of mass shooting vs GDP per person, We can still identify the US as an outlier, as it is the only country with mass shooting close to 80\n"
     ]
    }
   ],
   "source": [
    "# Now per person\n",
    "fig = pl.figure(figsize=(14,4)) \n",
    "ax1 = fig.add_subplot(111)\n",
    "\n",
    "ax1.set_title(\"Number of mass shootings vs GDP per person\")\n",
    "scatter = ax1.scatter(df_all['gdp in 2012']/df_all['Population in 2012'], df_all['Number of mass shootings'])\n",
    "#ax1.errorbar(df_all['gdp in 2012'] / 1e9, df_all['Number of mass shootings'], \n",
    "#            yerr = np.sqrt(df_all['Number of mass shootings'] * 1.0), fmt = '.')\n",
    "\n",
    "ax1.set_xlabel(\"GDP per person (in hundreds)\")\n",
    "ax1.set_ylabel(\"Number of mass shooting per person\")\n",
    "ax1.set_ylim()\n",
    "pl.show()\n",
    "print (\"Figure2: Number of mass shooting vs GDP per person, \" + \n",
    "       \"We can still identify the US as an outlier, as it is the only \"+\n",
    "      \"country with mass shooting close to 80\")"
   ]
  },
  {
   "cell_type": "code",
   "execution_count": 8,
   "metadata": {
    "collapsed": false
   },
   "outputs": [
    {
     "data": {
      "image/png": "[encoded data removed]",
      "text/plain": [
       "<matplotlib.figure.Figure at 0x7f5dfb6983d0>"
      ]
     },
     "metadata": {},
     "output_type": "display_data"
    },
    {
     "name": "stdout",
     "output_type": "stream",
     "text": [
      "Figure2: Number of mass shooting vs GDP per person, We can still identify the US as an outlier, as it is the only country with mass shooting close to 80\n"
     ]
    }
   ],
   "source": [
    "# Now per person\n",
    "fig = pl.figure(figsize=(14,4)) \n",
    "ax1 = fig.add_subplot(111)\n",
    "\n",
    "ax1.set_title(\"Number of mass shootings vs GDP per person\")\n",
    "scatter = ax1.scatter((df_all['gdp in 2012']/df_all['Population in 2012'])/1000, df_all['Number of mass shootings'])\n",
    "#ax1.errorbar(df_all['gdp in 2012'] / 1e9, df_all['Number of mass shootings'], \n",
    "#            yerr = np.sqrt(df_all['Number of mass shootings'] * 1.0), fmt = '.')\n",
    "\n",
    "ax1.set_xlabel(\"GDP per person (in thousands)\")\n",
    "ax1.set_ylabel(\"Number of mass shooting per person\")\n",
    "ax1.set_ylim()\n",
    "pl.show()\n",
    "print (\"Figure2: Number of mass shooting vs GDP per person, \" + \n",
    "       \"We can still identify the US as an outlier, as it is the only \"+\n",
    "      \"country with mass shooting close to 80\")"
   ]
  },
  {
   "cell_type": "markdown",
   "metadata": {},
   "source": [
    "## Plot the average number of civilian fire arms per person\n",
    "first without errors, then with errors. are there  points that look like outliers?"
   ]
  },
  {
   "cell_type": "code",
   "execution_count": 9,
   "metadata": {
    "ExecuteTime": {
     "end_time": "2017-10-12T07:17:52.778486",
     "start_time": "2017-10-12T07:17:52.768299"
    },
    "collapsed": false,
    "run_control": {
     "frozen": false,
     "read_only": false
    }
   },
   "outputs": [
    {
     "data": {
      "image/png": "[encoded data removed]",
      "text/plain": [
       "<matplotlib.figure.Figure at 0x7f5dfb698710>"
      ]
     },
     "metadata": {},
     "output_type": "display_data"
    },
    {
     "name": "stdout",
     "output_type": "stream",
     "text": [
      "Number of firearms vs population, The datapoint to the top right of the plot is, again, the USA, which has both the highest Population and the highest number of firearms\n"
     ]
    },
    {
     "data": {
      "image/png": "[encoded data removed]",
      "text/plain": [
       "<matplotlib.figure.Figure at 0x7f5dfb407b50>"
      ]
     },
     "metadata": {},
     "output_type": "display_data"
    },
    {
     "name": "stdout",
     "output_type": "stream",
     "text": [
      "Number of firearms vs population, errors represent Poisson statistics.\n",
      "The datapoint to the top right of the plot is, again, the USA, which has both the highest Population and the highest number of firearms\n"
     ]
    }
   ],
   "source": [
    "#df_['shootingspp'] = df_[\"Number of mass shootings\"] / df_['pop'] * 1e3\n",
    "\n",
    "#WITHOUT ERROR:\n",
    "fig = pl.figure(figsize=(14,10)) \n",
    "ax = fig.add_subplot(211)\n",
    "\n",
    "scatter = ax.scatter(df_all['Population in 2012'] / 1000, df_all['Average total all civilian firearms']/1000)\n",
    "ax.set_xlabel(\"Population (in thousands)\")\n",
    "ax.set_ylabel(\"Number of firearms per person(in thousands)\")\n",
    "ax.set_ylim()\n",
    "pl.show()\n",
    "print (\"Number of firearms vs population, \" + \n",
    "       \"The datapoint to the top right of the plot is, again, the USA, \" + \n",
    "       \"which has both the highest Population and the highest number of firearms\")\n",
    "\n",
    "\n",
    "#WITH ERROR:\n",
    "fig = pl.figure(figsize=(14,10)) \n",
    "ax = fig.add_subplot(212)\n",
    "\n",
    "scatter = ax.scatter(df_all['Population in 2012'] / 1000, df_all['Average total all civilian firearms']/1000)\n",
    "ax.errorbar(df_all['Population in 2012'] / 1000, df_all['Average total all civilian firearms']/1000, \n",
    "            yerr = np.sqrt(df_all['Average total all civilian firearms'] * 1.0), fmt = '.')\n",
    "ax.set_xlabel(\"Population (in thousands)\")\n",
    "ax.set_ylabel(\"Number of firearms per person(in thousands)\")\n",
    "ax.set_ylim()\n",
    "pl.show()\n",
    "print (\"Number of firearms vs population, \" + \n",
    "       \"errors represent Poisson statistics.\\n\" + \n",
    "       \"The datapoint to the top right of the plot is, again, the USA, \" + \n",
    "       \"which has both the highest Population and the highest number of firearms\")"
   ]
  },
  {
   "cell_type": "markdown",
   "metadata": {},
   "source": [
    "## plot the average number of homicide by fire arms per person\n",
    "first as a histogram\n",
    "\n",
    "then against the country GDP, with statistical errors. are there  points that look like outliers?"
   ]
  },
  {
   "cell_type": "code",
   "execution_count": 10,
   "metadata": {
    "ExecuteTime": {
     "end_time": "2017-10-12T07:53:17.910541",
     "start_time": "2017-10-12T07:53:17.506477"
    },
    "collapsed": false
   },
   "outputs": [
    {
     "data": {
      "image/png": "[encoded data removed]",
      "text/plain": [
       "<matplotlib.figure.Figure at 0x7f5dfb4bbf10>"
      ]
     },
     "metadata": {},
     "output_type": "display_data"
    }
   ],
   "source": [
    "fig, ax = pl.subplots()\n",
    "ax.hist(df_all['Number of homicides by firearm'] / df_all['Population in 2012'] * 10000)\n",
    "ax.set_xlabel('homicides by firearm per 1000 people');\n",
    "pl.show()\n",
    "#QUESTION FOR OFFICE HOURS: WHAT IS THIS ? "
   ]
  },
  {
   "cell_type": "markdown",
   "metadata": {},
   "source": [
    "## plot the number of  homicides by fire arm against the number of civilian firearms. plot the  US in a different color\n",
    "with and without errorbars\n"
   ]
  },
  {
   "cell_type": "code",
   "execution_count": 11,
   "metadata": {
    "collapsed": false
   },
   "outputs": [
    {
     "data": {
      "image/png": "[encoded data removed]",
      "text/plain": [
       "<matplotlib.figure.Figure at 0x7f5dfb214050>"
      ]
     },
     "metadata": {},
     "output_type": "display_data"
    },
    {
     "name": "stdout",
     "output_type": "stream",
     "text": [
      "Number of homicides by firearm vs number of civilian firearms, The datapoint to the top right of the plot is, again, the USA, which has clearly the highest number of civilians with firearms, and also the highest number of homicides by firearms\n"
     ]
    },
    {
     "data": {
      "image/png": "[encoded data removed]",
      "text/plain": [
       "<matplotlib.figure.Figure at 0x7f5dfb23f750>"
      ]
     },
     "metadata": {},
     "output_type": "display_data"
    },
    {
     "name": "stdout",
     "output_type": "stream",
     "text": [
      "Number of homicides by firearm vs number of civilian firearms, errors represent Poisson statistics.\n",
      "The datapoint to the top right of the plot is, again, the USA, which has clearly the highest number of civilians with firearms, and also the highest number of homicides by firearms\n"
     ]
    }
   ],
   "source": [
    "#WITHOUT ERROR:\n",
    "fig = pl.figure(figsize=(14,10)) \n",
    "ax = fig.add_subplot(211)\n",
    "\n",
    "scatter = ax.scatter(df_all['Average total all civilian firearms'] / 1000, df_all['Number of homicides by firearm'])\n",
    "USscatter = ax.scatter(df_all['Average total all civilian firearms'][21] / 1000, df_all['Number of homicides by firearm'][21],c='r')\n",
    "ax.set_xlabel(\"Number of civilian firearms(in thousands)\")\n",
    "ax.set_ylabel(\"Number of homicides by firearm\")\n",
    "ax.set_ylim()\n",
    "pl.show()\n",
    "print (\"Number of homicides by firearm vs number of civilian firearms, \" + \n",
    "       \"The datapoint to the top right of the plot is, again, the USA, \" + \n",
    "       \"which has clearly the highest number of civilians with firearms, \"+\n",
    "       \"and also the highest number of homicides by firearms\")\n",
    "\n",
    "\n",
    "#WITH ERROR:\n",
    "fig = pl.figure(figsize=(14,10)) \n",
    "ax = fig.add_subplot(212)\n",
    "\n",
    "scatter = ax.scatter(df_all['Average total all civilian firearms'] / 1000, df_all['Number of homicides by firearm'])\n",
    "USscatter = ax.scatter(df_all['Average total all civilian firearms'][21] / 1000, df_all['Number of homicides by firearm'][21],c='r')\n",
    "ax.errorbar(df_all['Average total all civilian firearms'] / 1000, df_all['Number of homicides by firearm'], \n",
    "            xerr = np.sqrt(df_all['Average total all civilian firearms'] * 1.0), fmt = '.')\n",
    "ax.errorbar(df_all['Average total all civilian firearms'][21] / 1000, df_all['Number of homicides by firearm'][21], \n",
    "            xerr = np.sqrt(df_all['Average total all civilian firearms'][21] * 1.0), fmt = '.',c='r')\n",
    "ax.set_xlabel(\"Number of civilian firearms(in thousands)\")\n",
    "ax.set_ylabel(\"Number of homicides by firearm\")\n",
    "ax.set_ylim()\n",
    "pl.show()\n",
    "print (\"Number of homicides by firearm vs number of civilian firearms, \" + \n",
    "       \"errors represent Poisson statistics.\\n\" + \n",
    "       \"The datapoint to the top right of the plot is, again, the USA, \" + \n",
    "       \"which has clearly the highest number of civilians with firearms, \"+\n",
    "       \"and also the highest number of homicides by firearms\")"
   ]
  },
  {
   "cell_type": "markdown",
   "metadata": {},
   "source": [
    "## plot the number of  mass shootings against the number of civilian firearms. plot the  US in a different color\n",
    "with and without errorbars\n"
   ]
  },
  {
   "cell_type": "code",
   "execution_count": 12,
   "metadata": {
    "collapsed": false
   },
   "outputs": [
    {
     "data": {
      "image/png": "[encoded data removed]",
      "text/plain": [
       "<matplotlib.figure.Figure at 0x7f5dfb2025d0>"
      ]
     },
     "metadata": {},
     "output_type": "display_data"
    },
    {
     "name": "stdout",
     "output_type": "stream",
     "text": [
      "Number of mass shootings vs number of civilian firearms, The datapoint to the top right of the plot is, again, the USA, which has clearly the highest number of civilians with firearms, and also the highest number of Mass shootings\n"
     ]
    },
    {
     "data": {
      "image/png": "[encoded data removed]",
      "text/plain": [
       "<matplotlib.figure.Figure at 0x7f5dfb2eced0>"
      ]
     },
     "metadata": {},
     "output_type": "display_data"
    },
    {
     "name": "stdout",
     "output_type": "stream",
     "text": [
      "Number of mass shootings vs number of civilian firearms, errors represent Poisson statistics.\n",
      "The datapoint to the top right of the plot is, again, the USA, which has clearly the highest number of civilians with firearms, and also the highest number of mass shootings\n"
     ]
    }
   ],
   "source": [
    "#WITHOUT ERROR:\n",
    "fig = pl.figure(figsize=(14,10)) \n",
    "ax = fig.add_subplot(211)\n",
    "\n",
    "scatter = ax.scatter(df_all['Average total all civilian firearms'] / 1000, df_all['Number of mass shootings'])\n",
    "USscatter = ax.scatter(df_all['Average total all civilian firearms'][21] / 1000, df_all['Number of mass shootings'][21],c='r')\n",
    "ax.set_xlabel(\"Number of civilian firearms(in thousands)\")\n",
    "ax.set_ylabel(\"Number of homicides by firearm\")\n",
    "ax.set_ylim()\n",
    "pl.show()\n",
    "print (\"Number of mass shootings vs number of civilian firearms, \" + \n",
    "       \"The datapoint to the top right of the plot is, again, the USA, \" + \n",
    "       \"which has clearly the highest number of civilians with firearms, \"+\n",
    "       \"and also the highest number of Mass shootings\")\n",
    "\n",
    "\n",
    "#WITH ERROR:\n",
    "fig = pl.figure(figsize=(14,10)) \n",
    "ax = fig.add_subplot(212)\n",
    "\n",
    "scatter = ax.scatter(df_all['Average total all civilian firearms'] / 1000, df_all['Number of mass shootings'])\n",
    "USscatter = ax.scatter(df_all['Average total all civilian firearms'][21] / 1000, df_all['Number of mass shootings'][21],c='r')\n",
    "ax.errorbar(df_all['Average total all civilian firearms'] / 1000, df_all['Number of mass shootings'], \n",
    "            xerr = np.sqrt(df_all['Average total all civilian firearms'] * 1.0), fmt = '.')\n",
    "ax.errorbar(df_all['Average total all civilian firearms'][21] / 1000, df_all['Number of mass shootings'][21], \n",
    "            xerr = np.sqrt(df_all['Average total all civilian firearms'][21] * 1.0), fmt = '.',c='r')\n",
    "ax.set_xlabel(\"Number of civilian firearms(in thousands)\")\n",
    "ax.set_ylabel(\"Number of mass shootings\")\n",
    "ax.set_ylim()\n",
    "pl.show()\n",
    "print (\"Number of mass shootings vs number of civilian firearms, \" + \n",
    "       \"errors represent Poisson statistics.\\n\" + \n",
    "       \"The datapoint to the top right of the plot is, again, the USA, \" + \n",
    "       \"which has clearly the highest number of civilians with firearms, \"+\n",
    "       \"and also the highest number of mass shootings\")"
   ]
  },
  {
   "cell_type": "markdown",
   "metadata": {},
   "source": [
    "# Modeling\n",
    "\n",
    "## fit a line to the Number of mass shootings  per person as a function of Average total all civilian firearms per person. \n",
    "Before you do it it is a good idea to make sure that both quantities are roughly of the same order of magnitude (unity). (You can simply divide by the order of magnitude of the mean of the sample to obtain this). Use\n",
    "\n",
    "    - statsmodels OLS\n",
    "    - statsmodels WLS\n",
    "    - seaborn\n",
    "    - choose one of\n",
    "        -- creating a function that calculates the residuals and minimizing that function\n",
    "        -- analytical solution http://mathworld.wolfram.com/LeastSquaresFitting.html\n",
    "        -- numpy.polyfit() - https://docs.scipy.org/doc/numpy-1.13.0/reference/generated/numpy.polyfit.html\n",
    "    \n",
    "\n",
    "WLS: that is the weighted square fit. The statsmodel package WLS function allows you to take the uncertainties of each data point into account when you fit your model. It takes the parameter weights, which is the inverse of your errors:\n",
    "weights = 1.0/df.yerror\n",
    "Notice that \n",
    "    a - sqrt(0) = 0\n",
    "    b - 1/0 = infinity\n",
    "    c - you cannot have weight that are infinity in your fit. Please come up with a solution and justify it.\n",
    "\n",
    "\n",
    "the latter three you can learn about in this example: https://github.com/fedhere/PUI2017_fb55/blob/master/Lab5_fb55/genderIncomeBias.ipynb\n",
    "Since we did not discuss these, I will add some notes to the repo in the afternoon.\n",
    "\n",
    "Use the seaborn python package built in regression function  to plot the regression confidence intervals. \n",
    "\n",
    "import seaborn  as sns\n",
    "sns.regplot(x=\"x\", y=\"y\", data=df);\n",
    "\n",
    "\n"
   ]
  },
  {
   "cell_type": "code",
   "execution_count": 13,
   "metadata": {
    "collapsed": false
   },
   "outputs": [
    {
     "data": {
      "text/plain": [
       "Index([u'Country', u'Number of homicides by firearm',\n",
       "       u'Average total all civilian firearms', u'Guns/100 inhabitants',\n",
       "       u'Number of mass shootings', u'Population in 2012', u'gdp in 2012'],\n",
       "      dtype='object')"
      ]
     },
     "execution_count": 13,
     "metadata": {},
     "output_type": "execute_result"
    }
   ],
   "source": [
    "df_all.columns"
   ]
  },
  {
   "cell_type": "code",
   "execution_count": 14,
   "metadata": {
    "collapsed": false
   },
   "outputs": [
    {
     "data": {
      "image/png": "[encoded data removed]",
      "text/plain": [
       "<matplotlib.figure.Figure at 0x7f5dfb2a19d0>"
      ]
     },
     "metadata": {},
     "output_type": "display_data"
    }
   ],
   "source": [
    "import statsmodels.api as sm\n",
    "\n",
    "fig = pl.figure(figsize=(14,5)) \n",
    "ax = fig.add_subplot(121)\n",
    "\n",
    "x = df_all['Average total all civilian firearms']/df_all['Population in 2012']*10\n",
    "y = df_all['Number of mass shootings']/df_all['Population in 2012']*1e7\n",
    "\n",
    "linmodel = sm.OLS(y,x).fit()\n",
    "linmodel.fittedvalues;\n",
    "\n",
    "pl.plot(x,y,'.')\n",
    "pl.plot(x,linmodel.fittedvalues,'-')\n",
    "\n",
    "pl.title(\"Mass shootings as fucntion of civilian firearms\")\n",
    "pl.xlabel(\"Average # of civilian firearms\")\n",
    "pl.ylabel(\"Number of mass shootings\")\n",
    "\n",
    "\n",
    "###################### \n",
    "\n",
    "ax1 = fig.add_subplot(122)\n",
    "\n",
    "pl.plot(x,y,'.')\n",
    "pl.plot(x,linmodel.fittedvalues,'-')\n",
    "\n",
    "pl.errorbar(x,y,yerr=np.abs(y)**0.5, fmt='.')\n",
    "\n",
    "pl.title(\"Mass shootings as fucntion of civilian firearms, with error\")\n",
    "pl.xlabel(\"Average # of civilian firearms\")\n",
    "pl.ylabel(\"Number of mass shootings\")\n",
    "\n",
    "pl.show()\n",
    "\n",
    "\n"
   ]
  },
  {
   "cell_type": "code",
   "execution_count": 16,
   "metadata": {
    "ExecuteTime": {
     "end_time": "2017-10-12T16:35:12.472517",
     "start_time": "2017-10-12T16:35:11.345016"
    },
    "collapsed": false
   },
   "outputs": [
    {
     "data": {
      "image/png": "[encoded data removed]",
      "text/plain": [
       "<matplotlib.figure.Figure at 0x7ff00025d610>"
      ]
     },
     "metadata": {},
     "output_type": "display_data"
    }
   ],
   "source": [
    "#WLS \n",
    "fig = pl.figure(figsize=(14,5)) \n",
    "\n",
    "ax = fig.add_subplot(121)\n",
    "\n",
    "x = df_all['Average total all civilian firearms']/df_all['Population in 2012']*10\n",
    "y = df_all['Number of mass shootings']/df_all['Population in 2012']*1e7\n",
    "\n",
    "#wmodel = sm.WLS(endog=y,exog=sm.add_constant(x),weights=1.0/yerr).fit()\n",
    "\n",
    "yerr=np.abs(y)**0.5\n",
    "\n",
    "linmodelW = sm.WLS(y,x,weights=1.0/(yerr+1)).fit()\n",
    "linmodelW.fittedvalues;\n",
    "\n",
    "pl.plot(x,y,'.')\n",
    "pl.plot(x,linmodel.fittedvalues,'-')\n",
    "\n",
    "pl.title(\"Mass shootings as fucntion of civilian firearms\")\n",
    "pl.xlabel(\"Average # of civilian firearms\")\n",
    "pl.ylabel(\"Number of mass shootings\")\n",
    "#ax.set_ylim()\n",
    "#print (\"ddd\")\n",
    "\n",
    "###################### \n",
    "\n",
    "ax1 = fig.add_subplot(122)\n",
    "\n",
    "x = df_all['Average total all civilian firearms']/df_all['Population in 2012']*10\n",
    "y = df_all['Number of mass shootings']/df_all['Population in 2012']*1e7\n",
    "\n",
    "linmodelW = sm.WLS(y,x,weights=1.0/(yerr+1)).fit()\n",
    "linmodelW.fittedvalues;\n",
    "\n",
    "pl.plot(x,y,'.')\n",
    "pl.plot(x,linmodelW.fittedvalues,'-')\n",
    "\n",
    "pl.errorbar(x,y,yerr=np.abs(y)**0.5, fmt='.')\n",
    "\n",
    "pl.title(\"Mass shootings as fucntion of civilian firearms, with error\")\n",
    "pl.xlabel(\"Average # of civilian firearms\")\n",
    "pl.ylabel(\"Number of mass shootings\")\n",
    "#ax.set_ylim()\n",
    "pl.show()"
   ]
  },
  {
   "cell_type": "markdown",
   "metadata": {
    "ExecuteTime": {
     "end_time": "2017-10-12T16:21:08.019663",
     "start_time": "2017-10-12T16:21:08.010876"
    }
   },
   "source": [
    "## Extra credit: calculate the confidence interval by hand and also plot them \n",
    "you can use pylab.fill_between(x, yfit - ci, yfit + ci, alpha=0.5)"
   ]
  },
  {
   "cell_type": "markdown",
   "metadata": {},
   "source": [
    "**Confidence intervals: **\n",
    "there are three type of intervals in a linear regression, plot any one of them all three if you want - how do they compare to the seaborn plot?:\n",
    "\n",
    "1) Confidence intervals for the parameters slope and intercept\n",
    "\n",
    "2) Confidence interval for the average y value\n",
    "\n",
    "3) Prediction interval for a single y value"
   ]
  },
  {
   "cell_type": "markdown",
   "metadata": {},
   "source": [
    "1) __confidence interval of the  model parameters slope and intercept:__\n",
    "define sigma as the sum of the residuals over the square root of number n of observations. \n",
    "\n",
    "sigma: σ̂ =sqrt(Sum((Yoberved_i−Ypredicted_i)^2)/n)\n",
    "\n",
    "where the sum is over all observations\n",
    "\n",
    "Define t_alpha/2,n-2 the t statistics at (1-alpha/2) for a t distribution with n-2 degrees of freedom (you can calculate it with scipy\n",
    "tp = sp.stats.t.ppf(0.975, n-2)\n",
    "\n"
   ]
  },
  {
   "cell_type": "code",
   "execution_count": 15,
   "metadata": {
    "ExecuteTime": {
     "end_time": "2017-10-12T15:42:26.836222",
     "start_time": "2017-10-12T15:42:26.819963"
    },
    "collapsed": false
   },
   "outputs": [],
   "source": [
    "#from IPython.display import Image\n",
    "#Image(filename=\"../Lab5_fb55/confidence_intervals_regression.png\")"
   ]
  },
  {
   "cell_type": "code",
   "execution_count": 16,
   "metadata": {
    "ExecuteTime": {
     "end_time": "2017-10-12T15:54:20.748008",
     "start_time": "2017-10-12T15:54:20.736381"
    },
    "collapsed": false
   },
   "outputs": [],
   "source": [
    "#from IPython.display import Image\n",
    "#Image(filename=\"../Lab5_fb55/confidence_intervals_regression2.png\")"
   ]
  },
  {
   "cell_type": "markdown",
   "metadata": {},
   "source": [
    "[proof](https://onlinecourses.science.psu.edu/stat414/node/280)"
   ]
  },
  {
   "cell_type": "markdown",
   "metadata": {},
   "source": [
    "2) **A confidence interval for E(y | x) , the expected (average) value of y for a given x_**\n",
    "\n",
    "define s: residual standard error sy = sqrt(Sum((y_observed-y_predicted)^2)/(n-2))\n",
    "\n",
    "(note: n-2 is the degrees of freedom of the problem: observations - number of parameters - 1)\n",
    "\n",
    "the confidence interval for a given y(x*) is: \n",
    "\n",
    "y_predicted(x*) +/- t_(alpha/2)(n-2) * sy * sqrt( 1/n + (x* - mean(x)^2) / sum((x* - mean(x)^2)"
   ]
  },
  {
   "cell_type": "code",
   "execution_count": 17,
   "metadata": {
    "ExecuteTime": {
     "end_time": "2017-10-12T16:09:14.173143",
     "start_time": "2017-10-12T16:09:14.161088"
    },
    "collapsed": false
   },
   "outputs": [],
   "source": [
    "#from IPython.display import Image\n",
    "#Image(filename=\"../Lab5_fb55/ciY.png\")"
   ]
  },
  {
   "cell_type": "markdown",
   "metadata": {},
   "source": [
    "3) **Confidence intervals for average y (predicted) values**\n",
    "\n",
    "y_predicted(x*) +/- t_(n-2) * sy * sqrt( 1 + 1/n + (x* - mean(x)^2) / sum((x* - mean(x)^2)\n",
    "\n",
    "very similar, but note the +1 in the square root"
   ]
  },
  {
   "cell_type": "code",
   "execution_count": 18,
   "metadata": {
    "ExecuteTime": {
     "end_time": "2017-10-12T16:08:46.077157",
     "start_time": "2017-10-12T16:08:46.067407"
    },
    "collapsed": false
   },
   "outputs": [],
   "source": [
    "#from IPython.display import Image\n",
    "#Image(filename=\"../Lab5_fb55/ciYaverage.png\")"
   ]
  },
  {
   "cell_type": "markdown",
   "metadata": {},
   "source": [
    "# SEABORN"
   ]
  },
  {
   "cell_type": "code",
   "execution_count": 19,
   "metadata": {
    "ExecuteTime": {
     "end_time": "2017-10-12T16:36:39.238967",
     "start_time": "2017-10-12T16:36:38.688004"
    },
    "collapsed": false
   },
   "outputs": [
    {
     "data": {
      "image/png": "[encoded data removed]",
      "text/plain": [
       "<matplotlib.figure.Figure at 0x7f5dfb15c990>"
      ]
     },
     "metadata": {},
     "output_type": "display_data"
    }
   ],
   "source": [
    "pl.figure()\n",
    "import seaborn  as sns\n",
    "sns.regplot(x,y, data=df_all);\n",
    "\n",
    "pl.ylabel(\"Mass shootings\")\n",
    "pl.xlabel(\"Fire arms\");"
   ]
  },
  {
   "cell_type": "markdown",
   "metadata": {},
   "source": [
    "# Polyfit"
   ]
  },
  {
   "cell_type": "code",
   "execution_count": 20,
   "metadata": {
    "collapsed": false
   },
   "outputs": [
    {
     "data": {
      "text/plain": [
       "[<matplotlib.lines.Line2D at 0x7f5df95f7e10>]"
      ]
     },
     "execution_count": 20,
     "metadata": {},
     "output_type": "execute_result"
    },
    {
     "data": {
      "image/png": "[encoded data removed]",
      "text/plain": [
       "<matplotlib.figure.Figure at 0x7f5df96040d0>"
      ]
     },
     "metadata": {},
     "output_type": "display_data"
    }
   ],
   "source": [
    "#https://docs.scipy.org/doc/numpy-1.13.0/reference/generated/numpy.polyfit.html\n",
    "\n",
    "polyfit = numpy.polyfit(x, y, deg=1, rcond=None, full=False, w=None, cov=False)\n",
    "\n",
    "polyfit_y = polyfit[0]*x+polyfit[1]\n",
    "\n",
    "pl.plot(x,polyfit_y)\n",
    "pl.plot(x,y,'.')\n"
   ]
  },
  {
   "cell_type": "markdown",
   "metadata": {},
   "source": [
    "## Use the stsatsmodels.gaphics package to plot the influence plot. \n",
    "Read the package documentation to learn how to read this plot and extract the countries with the highest influence\n",
    "\n",
    "This is the topic of this week's assigned reading, so make sure you do the reading before you do this step. It will help you interpret the plot."
   ]
  },
  {
   "cell_type": "code",
   "execution_count": 21,
   "metadata": {
    "ExecuteTime": {
     "end_time": "2017-10-11T07:46:21.766085",
     "start_time": "2017-10-11T07:46:21.412498"
    },
    "collapsed": false
   },
   "outputs": [
    {
     "data": {
      "image/png": "[encoded data removed]",
      "text/plain": [
       "<matplotlib.figure.Figure at 0x7f5df95a4610>"
      ]
     },
     "metadata": {},
     "output_type": "display_data"
    }
   ],
   "source": [
    "sm.graphics.influence_plot(linmodel, alpha  = 0.05, criterion=\"cooks\");"
   ]
  },
  {
   "cell_type": "markdown",
   "metadata": {},
   "source": [
    "## Extra credit: calculate from scratch the stanrdardized residuals and the H leverage for the WLS model and discuss if there are any differences"
   ]
  },
  {
   "cell_type": "markdown",
   "metadata": {},
   "source": [
    "## Discuss your findings"
   ]
  },
  {
   "cell_type": "markdown",
   "metadata": {
    "collapsed": true
   },
   "source": [
    "## It is very important to scale as if we don't the graphs can easily be misinterpreted. "
   ]
  },
  {
   "cell_type": "code",
   "execution_count": null,
   "metadata": {
    "collapsed": true
   },
   "outputs": [],
   "source": []
  }
 ],
 "metadata": {
  "anaconda-cloud": {},
  "kernelspec": {
   "display_name": "PUI2016_Python2",
   "language": "python",
   "name": "pui2016_python2"
  },
  "language_info": {
   "codemirror_mode": {
    "name": "ipython",
    "version": 2
   },
   "file_extension": ".py",
   "mimetype": "text/x-python",
   "name": "python",
   "nbconvert_exporter": "python",
   "pygments_lexer": "ipython2",
   "version": "2.7.12"
  },
  "latex_envs": {
   "LaTeX_envs_menu_present": true,
   "bibliofile": "biblio.bib",
   "cite_by": "apalike",
   "current_citInitial": 1,
   "eqLabelWithNumbers": true,
   "eqNumInitial": 1,
   "hotkeys": {
    "equation": "Ctrl-E",
    "itemize": "Ctrl-I"
   },
   "labels_anchors": false,
   "latex_user_defs": false,
   "report_style_numbering": false,
   "user_envs_cfg": false
  },
  "toc": {
   "colors": {
    "hover_highlight": "#DAA520",
    "running_highlight": "#FF0000",
    "selected_highlight": "#FFD700"
   },
   "moveMenuLeft": true,
   "nav_menu": {
    "height": "13px",
    "width": "251px"
   },
   "navigate_menu": true,
   "number_sections": true,
   "sideBar": true,
   "threshold": 4,
   "toc_cell": true,
   "toc_section_display": "block",
   "toc_window_display": true
  }
 },
 "nbformat": 4,
 "nbformat_minor": 1
}
